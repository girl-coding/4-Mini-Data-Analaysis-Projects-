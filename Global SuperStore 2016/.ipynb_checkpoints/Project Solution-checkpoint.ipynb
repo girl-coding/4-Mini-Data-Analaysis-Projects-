{
 "cells": [
  {
   "cell_type": "code",
   "execution_count": 160,
   "id": "327899ae",
   "metadata": {},
   "outputs": [],
   "source": [
    "# The aim of this project is to analyse the data with respect to the sales and profit after filtering some of the columns."
   ]
  },
  {
   "cell_type": "code",
   "execution_count": 2,
   "id": "970d7e68",
   "metadata": {},
   "outputs": [],
   "source": [
    "import pandas as pd\n",
    "import numpy as np"
   ]
  },
  {
   "cell_type": "code",
   "execution_count": 3,
   "id": "fd2527a9",
   "metadata": {},
   "outputs": [],
   "source": [
    "data = pd.read_csv('/Users/SalmaDkier/Documents/Codings/4 Mini-Real-Projects to analyze /Global SuperStore 2016/global_superstore_2016.csv', encoding = 'latin1')\n",
    "\n"
   ]
  },
  {
   "cell_type": "code",
   "execution_count": 4,
   "id": "dc5a6e37",
   "metadata": {},
   "outputs": [
    {
     "data": {
      "text/html": [
       "<div>\n",
       "<style scoped>\n",
       "    .dataframe tbody tr th:only-of-type {\n",
       "        vertical-align: middle;\n",
       "    }\n",
       "\n",
       "    .dataframe tbody tr th {\n",
       "        vertical-align: top;\n",
       "    }\n",
       "\n",
       "    .dataframe thead th {\n",
       "        text-align: right;\n",
       "    }\n",
       "</style>\n",
       "<table border=\"1\" class=\"dataframe\">\n",
       "  <thead>\n",
       "    <tr style=\"text-align: right;\">\n",
       "      <th></th>\n",
       "      <th>Row ID</th>\n",
       "      <th>Order ID</th>\n",
       "      <th>Order Date</th>\n",
       "      <th>Ship Date</th>\n",
       "      <th>Ship Mode</th>\n",
       "      <th>Customer ID</th>\n",
       "      <th>Customer Name</th>\n",
       "      <th>Segment</th>\n",
       "      <th>Postal Code</th>\n",
       "      <th>City</th>\n",
       "      <th>...</th>\n",
       "      <th>Product ID</th>\n",
       "      <th>Category</th>\n",
       "      <th>Sub-Category</th>\n",
       "      <th>Product Name</th>\n",
       "      <th>Sales</th>\n",
       "      <th>Quantity</th>\n",
       "      <th>Discount</th>\n",
       "      <th>Profit</th>\n",
       "      <th>Shipping Cost</th>\n",
       "      <th>Order Priority</th>\n",
       "    </tr>\n",
       "  </thead>\n",
       "  <tbody>\n",
       "    <tr>\n",
       "      <th>0</th>\n",
       "      <td>40098</td>\n",
       "      <td>CA-2014-AB10015140-41954</td>\n",
       "      <td>11-11-2014</td>\n",
       "      <td>11/13/2014</td>\n",
       "      <td>First Class</td>\n",
       "      <td>AB-100151402</td>\n",
       "      <td>Aaron Bergman</td>\n",
       "      <td>Consumer</td>\n",
       "      <td>73120.0</td>\n",
       "      <td>Oklahoma City</td>\n",
       "      <td>...</td>\n",
       "      <td>TEC-PH-5816</td>\n",
       "      <td>Technology</td>\n",
       "      <td>Phones</td>\n",
       "      <td>Samsung Convoy 3</td>\n",
       "      <td>$221.98</td>\n",
       "      <td>2</td>\n",
       "      <td>0.0</td>\n",
       "      <td>$62.15</td>\n",
       "      <td>40.77</td>\n",
       "      <td>High</td>\n",
       "    </tr>\n",
       "    <tr>\n",
       "      <th>1</th>\n",
       "      <td>26341</td>\n",
       "      <td>IN-2014-JR162107-41675</td>\n",
       "      <td>02-05-2014</td>\n",
       "      <td>02-07-2014</td>\n",
       "      <td>Second Class</td>\n",
       "      <td>JR-162107</td>\n",
       "      <td>Justin Ritter</td>\n",
       "      <td>Corporate</td>\n",
       "      <td>NaN</td>\n",
       "      <td>Wollongong</td>\n",
       "      <td>...</td>\n",
       "      <td>FUR-CH-5379</td>\n",
       "      <td>Furniture</td>\n",
       "      <td>Chairs</td>\n",
       "      <td>Novimex Executive Leather Armchair, Black</td>\n",
       "      <td>$3,709.40</td>\n",
       "      <td>9</td>\n",
       "      <td>0.1</td>\n",
       "      <td>($288.77)</td>\n",
       "      <td>923.63</td>\n",
       "      <td>Critical</td>\n",
       "    </tr>\n",
       "    <tr>\n",
       "      <th>2</th>\n",
       "      <td>25330</td>\n",
       "      <td>IN-2014-CR127307-41929</td>\n",
       "      <td>10/17/2014</td>\n",
       "      <td>10/18/2014</td>\n",
       "      <td>First Class</td>\n",
       "      <td>CR-127307</td>\n",
       "      <td>Craig Reiter</td>\n",
       "      <td>Consumer</td>\n",
       "      <td>NaN</td>\n",
       "      <td>Brisbane</td>\n",
       "      <td>...</td>\n",
       "      <td>TEC-PH-5356</td>\n",
       "      <td>Technology</td>\n",
       "      <td>Phones</td>\n",
       "      <td>Nokia Smart Phone, with Caller ID</td>\n",
       "      <td>$5,175.17</td>\n",
       "      <td>9</td>\n",
       "      <td>0.1</td>\n",
       "      <td>$919.97</td>\n",
       "      <td>915.49</td>\n",
       "      <td>Medium</td>\n",
       "    </tr>\n",
       "    <tr>\n",
       "      <th>3</th>\n",
       "      <td>13524</td>\n",
       "      <td>ES-2014-KM1637548-41667</td>\n",
       "      <td>1/28/2014</td>\n",
       "      <td>1/30/2014</td>\n",
       "      <td>First Class</td>\n",
       "      <td>KM-1637548</td>\n",
       "      <td>Katherine Murray</td>\n",
       "      <td>Home Office</td>\n",
       "      <td>NaN</td>\n",
       "      <td>Berlin</td>\n",
       "      <td>...</td>\n",
       "      <td>TEC-PH-5267</td>\n",
       "      <td>Technology</td>\n",
       "      <td>Phones</td>\n",
       "      <td>Motorola Smart Phone, Cordless</td>\n",
       "      <td>$2,892.51</td>\n",
       "      <td>5</td>\n",
       "      <td>0.1</td>\n",
       "      <td>($96.54)</td>\n",
       "      <td>910.16</td>\n",
       "      <td>Medium</td>\n",
       "    </tr>\n",
       "    <tr>\n",
       "      <th>4</th>\n",
       "      <td>47221</td>\n",
       "      <td>SG-2014-RH9495111-41948</td>\n",
       "      <td>11-05-2014</td>\n",
       "      <td>11-06-2014</td>\n",
       "      <td>Same Day</td>\n",
       "      <td>RH-9495111</td>\n",
       "      <td>Rick Hansen</td>\n",
       "      <td>Consumer</td>\n",
       "      <td>NaN</td>\n",
       "      <td>Dakar</td>\n",
       "      <td>...</td>\n",
       "      <td>TEC-CO-6011</td>\n",
       "      <td>Technology</td>\n",
       "      <td>Copiers</td>\n",
       "      <td>Sharp Wireless Fax, High-Speed</td>\n",
       "      <td>$2,832.96</td>\n",
       "      <td>8</td>\n",
       "      <td>0.0</td>\n",
       "      <td>$311.52</td>\n",
       "      <td>903.04</td>\n",
       "      <td>Critical</td>\n",
       "    </tr>\n",
       "  </tbody>\n",
       "</table>\n",
       "<p>5 rows × 24 columns</p>\n",
       "</div>"
      ],
      "text/plain": [
       "   Row ID                  Order ID  Order Date   Ship Date     Ship Mode  \\\n",
       "0   40098  CA-2014-AB10015140-41954  11-11-2014  11/13/2014   First Class   \n",
       "1   26341    IN-2014-JR162107-41675  02-05-2014  02-07-2014  Second Class   \n",
       "2   25330    IN-2014-CR127307-41929  10/17/2014  10/18/2014   First Class   \n",
       "3   13524   ES-2014-KM1637548-41667   1/28/2014   1/30/2014   First Class   \n",
       "4   47221   SG-2014-RH9495111-41948  11-05-2014  11-06-2014      Same Day   \n",
       "\n",
       "    Customer ID     Customer Name      Segment  Postal Code           City  \\\n",
       "0  AB-100151402     Aaron Bergman     Consumer      73120.0  Oklahoma City   \n",
       "1     JR-162107     Justin Ritter    Corporate          NaN     Wollongong   \n",
       "2     CR-127307      Craig Reiter     Consumer          NaN       Brisbane   \n",
       "3    KM-1637548  Katherine Murray  Home Office          NaN         Berlin   \n",
       "4    RH-9495111       Rick Hansen     Consumer          NaN          Dakar   \n",
       "\n",
       "   ...   Product ID    Category Sub-Category  \\\n",
       "0  ...  TEC-PH-5816  Technology       Phones   \n",
       "1  ...  FUR-CH-5379   Furniture       Chairs   \n",
       "2  ...  TEC-PH-5356  Technology       Phones   \n",
       "3  ...  TEC-PH-5267  Technology       Phones   \n",
       "4  ...  TEC-CO-6011  Technology      Copiers   \n",
       "\n",
       "                                Product Name       Sales Quantity Discount  \\\n",
       "0                           Samsung Convoy 3    $221.98         2      0.0   \n",
       "1  Novimex Executive Leather Armchair, Black  $3,709.40         9      0.1   \n",
       "2          Nokia Smart Phone, with Caller ID  $5,175.17         9      0.1   \n",
       "3             Motorola Smart Phone, Cordless  $2,892.51         5      0.1   \n",
       "4             Sharp Wireless Fax, High-Speed  $2,832.96         8      0.0   \n",
       "\n",
       "      Profit Shipping Cost  Order Priority  \n",
       "0    $62.15          40.77            High  \n",
       "1  ($288.77)        923.63        Critical  \n",
       "2   $919.97         915.49          Medium  \n",
       "3   ($96.54)        910.16          Medium  \n",
       "4   $311.52         903.04        Critical  \n",
       "\n",
       "[5 rows x 24 columns]"
      ]
     },
     "execution_count": 4,
     "metadata": {},
     "output_type": "execute_result"
    }
   ],
   "source": [
    "data.head()"
   ]
  },
  {
   "cell_type": "code",
   "execution_count": 5,
   "id": "604d4cc6",
   "metadata": {},
   "outputs": [
    {
     "name": "stdout",
     "output_type": "stream",
     "text": [
      "<class 'pandas.core.frame.DataFrame'>\n",
      "RangeIndex: 51290 entries, 0 to 51289\n",
      "Data columns (total 24 columns):\n",
      " #   Column          Non-Null Count  Dtype  \n",
      "---  ------          --------------  -----  \n",
      " 0   Row ID          51290 non-null  int64  \n",
      " 1   Order ID        51290 non-null  object \n",
      " 2   Order Date      51290 non-null  object \n",
      " 3   Ship Date       51290 non-null  object \n",
      " 4   Ship Mode       51290 non-null  object \n",
      " 5   Customer ID     51290 non-null  object \n",
      " 6   Customer Name   51290 non-null  object \n",
      " 7   Segment         51290 non-null  object \n",
      " 8   Postal Code     9994 non-null   float64\n",
      " 9   City            51290 non-null  object \n",
      " 10  State           51290 non-null  object \n",
      " 11  Country         51290 non-null  object \n",
      " 12  Region          51290 non-null  object \n",
      " 13  Market          51290 non-null  object \n",
      " 14  Product ID      51290 non-null  object \n",
      " 15  Category        51290 non-null  object \n",
      " 16  Sub-Category    51290 non-null  object \n",
      " 17  Product Name    51290 non-null  object \n",
      " 18  Sales           51290 non-null  object \n",
      " 19  Quantity        51290 non-null  int64  \n",
      " 20  Discount        51290 non-null  float64\n",
      " 21  Profit          51290 non-null  object \n",
      " 22  Shipping Cost   51290 non-null  float64\n",
      " 23  Order Priority  51290 non-null  object \n",
      "dtypes: float64(3), int64(2), object(19)\n",
      "memory usage: 9.4+ MB\n"
     ]
    }
   ],
   "source": [
    "data.info()"
   ]
  },
  {
   "cell_type": "code",
   "execution_count": 6,
   "id": "d159409c",
   "metadata": {},
   "outputs": [
    {
     "data": {
      "text/html": [
       "<div>\n",
       "<style scoped>\n",
       "    .dataframe tbody tr th:only-of-type {\n",
       "        vertical-align: middle;\n",
       "    }\n",
       "\n",
       "    .dataframe tbody tr th {\n",
       "        vertical-align: top;\n",
       "    }\n",
       "\n",
       "    .dataframe thead th {\n",
       "        text-align: right;\n",
       "    }\n",
       "</style>\n",
       "<table border=\"1\" class=\"dataframe\">\n",
       "  <thead>\n",
       "    <tr style=\"text-align: right;\">\n",
       "      <th></th>\n",
       "      <th>Row ID</th>\n",
       "      <th>Postal Code</th>\n",
       "      <th>Quantity</th>\n",
       "      <th>Discount</th>\n",
       "      <th>Shipping Cost</th>\n",
       "    </tr>\n",
       "  </thead>\n",
       "  <tbody>\n",
       "    <tr>\n",
       "      <th>count</th>\n",
       "      <td>51290.00000</td>\n",
       "      <td>9994.000000</td>\n",
       "      <td>51290.000000</td>\n",
       "      <td>51290.000000</td>\n",
       "      <td>51290.000000</td>\n",
       "    </tr>\n",
       "    <tr>\n",
       "      <th>mean</th>\n",
       "      <td>25645.50000</td>\n",
       "      <td>55190.379428</td>\n",
       "      <td>3.476545</td>\n",
       "      <td>0.142908</td>\n",
       "      <td>26.478567</td>\n",
       "    </tr>\n",
       "    <tr>\n",
       "      <th>std</th>\n",
       "      <td>14806.29199</td>\n",
       "      <td>32063.693350</td>\n",
       "      <td>2.278766</td>\n",
       "      <td>0.212280</td>\n",
       "      <td>57.251373</td>\n",
       "    </tr>\n",
       "    <tr>\n",
       "      <th>min</th>\n",
       "      <td>1.00000</td>\n",
       "      <td>1040.000000</td>\n",
       "      <td>1.000000</td>\n",
       "      <td>0.000000</td>\n",
       "      <td>1.002000</td>\n",
       "    </tr>\n",
       "    <tr>\n",
       "      <th>25%</th>\n",
       "      <td>12823.25000</td>\n",
       "      <td>23223.000000</td>\n",
       "      <td>2.000000</td>\n",
       "      <td>0.000000</td>\n",
       "      <td>2.610000</td>\n",
       "    </tr>\n",
       "    <tr>\n",
       "      <th>50%</th>\n",
       "      <td>25645.50000</td>\n",
       "      <td>56430.500000</td>\n",
       "      <td>3.000000</td>\n",
       "      <td>0.000000</td>\n",
       "      <td>7.790000</td>\n",
       "    </tr>\n",
       "    <tr>\n",
       "      <th>75%</th>\n",
       "      <td>38467.75000</td>\n",
       "      <td>90008.000000</td>\n",
       "      <td>5.000000</td>\n",
       "      <td>0.200000</td>\n",
       "      <td>24.450000</td>\n",
       "    </tr>\n",
       "    <tr>\n",
       "      <th>max</th>\n",
       "      <td>51290.00000</td>\n",
       "      <td>99301.000000</td>\n",
       "      <td>14.000000</td>\n",
       "      <td>0.850000</td>\n",
       "      <td>933.570000</td>\n",
       "    </tr>\n",
       "  </tbody>\n",
       "</table>\n",
       "</div>"
      ],
      "text/plain": [
       "            Row ID   Postal Code      Quantity      Discount  Shipping Cost\n",
       "count  51290.00000   9994.000000  51290.000000  51290.000000   51290.000000\n",
       "mean   25645.50000  55190.379428      3.476545      0.142908      26.478567\n",
       "std    14806.29199  32063.693350      2.278766      0.212280      57.251373\n",
       "min        1.00000   1040.000000      1.000000      0.000000       1.002000\n",
       "25%    12823.25000  23223.000000      2.000000      0.000000       2.610000\n",
       "50%    25645.50000  56430.500000      3.000000      0.000000       7.790000\n",
       "75%    38467.75000  90008.000000      5.000000      0.200000      24.450000\n",
       "max    51290.00000  99301.000000     14.000000      0.850000     933.570000"
      ]
     },
     "execution_count": 6,
     "metadata": {},
     "output_type": "execute_result"
    }
   ],
   "source": [
    "data.describe()"
   ]
  },
  {
   "cell_type": "code",
   "execution_count": 7,
   "id": "11d5175b",
   "metadata": {},
   "outputs": [],
   "source": [
    "#convert the columns 'Order Date' & 'Ship Date' to a Datetime objects"
   ]
  },
  {
   "cell_type": "code",
   "execution_count": 8,
   "id": "a71dc71f",
   "metadata": {},
   "outputs": [
    {
     "data": {
      "text/plain": [
       "['11-11-2014', '02-05-2014', '10/17/2014', '1/28/2014', '11-05-2014']"
      ]
     },
     "execution_count": 8,
     "metadata": {},
     "output_type": "execute_result"
    }
   ],
   "source": [
    "order_date = data['Order Date'].tolist()\n",
    "order_date[:5]"
   ]
  },
  {
   "cell_type": "code",
   "execution_count": 9,
   "id": "b92581f2",
   "metadata": {},
   "outputs": [
    {
     "data": {
      "text/plain": [
       "['11/13/2014', '02-07-2014', '10/18/2014', '1/30/2014', '11-06-2014']"
      ]
     },
     "execution_count": 9,
     "metadata": {},
     "output_type": "execute_result"
    }
   ],
   "source": [
    "ship_date = data['Ship Date'].tolist()\n",
    "ship_date[:5]"
   ]
  },
  {
   "cell_type": "code",
   "execution_count": 10,
   "id": "a5d198ff",
   "metadata": {},
   "outputs": [
    {
     "data": {
      "text/plain": [
       "DatetimeIndex(['2014-11-11', '2014-02-05', '2014-10-17', '2014-01-28',\n",
       "               '2014-11-05', '2014-06-28', '2012-11-06', '2013-04-14',\n",
       "               '2014-11-11', '2012-03-06',\n",
       "               ...\n",
       "               '2014-07-09', '2015-06-09', '2015-08-05', '2015-05-30',\n",
       "               '2013-12-28', '2015-06-19', '2014-05-06', '2012-08-26',\n",
       "               '2013-02-17', '2013-05-22'],\n",
       "              dtype='datetime64[ns]', length=51290, freq=None)"
      ]
     },
     "execution_count": 10,
     "metadata": {},
     "output_type": "execute_result"
    }
   ],
   "source": [
    "order_datetime = pd.to_datetime(order_date)\n",
    "order_datetime"
   ]
  },
  {
   "cell_type": "code",
   "execution_count": 11,
   "id": "85ef91e9",
   "metadata": {},
   "outputs": [
    {
     "data": {
      "text/plain": [
       "DatetimeIndex(['2014-11-13', '2014-02-07', '2014-10-18', '2014-01-30',\n",
       "               '2014-11-06', '2014-07-01', '2012-11-08', '2013-04-18',\n",
       "               '2014-11-13', '2012-03-07',\n",
       "               ...\n",
       "               '2014-07-09', '2015-06-11', '2015-08-10', '2015-05-30',\n",
       "               '2013-12-31', '2015-06-19', '2014-05-10', '2012-08-31',\n",
       "               '2013-02-21', '2013-05-26'],\n",
       "              dtype='datetime64[ns]', length=51290, freq=None)"
      ]
     },
     "execution_count": 11,
     "metadata": {},
     "output_type": "execute_result"
    }
   ],
   "source": [
    "ship_datetime = pd.to_datetime(ship_date)\n",
    "ship_datetime"
   ]
  },
  {
   "cell_type": "code",
   "execution_count": 12,
   "id": "d00b6331",
   "metadata": {},
   "outputs": [],
   "source": [
    "Order_date = pd.Series(order_datetime, name= 'Order_Date')\n",
    "Ship_date = pd.Series(ship_datetime, name = 'Ship_Date')"
   ]
  },
  {
   "cell_type": "code",
   "execution_count": 13,
   "id": "114b8ea5",
   "metadata": {},
   "outputs": [
    {
     "data": {
      "text/plain": [
       "array(['Row ID', 'Order ID', 'Order Date', 'Ship Date', 'Ship Mode',\n",
       "       'Customer ID', 'Customer Name', 'Segment', 'Postal Code', 'City',\n",
       "       'State', 'Country', 'Region', 'Market', 'Product ID', 'Category',\n",
       "       'Sub-Category', 'Product Name', 'Sales', 'Quantity', 'Discount',\n",
       "       'Profit', 'Shipping Cost', 'Order Priority'], dtype=object)"
      ]
     },
     "execution_count": 13,
     "metadata": {},
     "output_type": "execute_result"
    }
   ],
   "source": [
    "data.columns.values"
   ]
  },
  {
   "cell_type": "code",
   "execution_count": 14,
   "id": "55c7ece2",
   "metadata": {
    "scrolled": true
   },
   "outputs": [
    {
     "data": {
      "text/html": [
       "<div>\n",
       "<style scoped>\n",
       "    .dataframe tbody tr th:only-of-type {\n",
       "        vertical-align: middle;\n",
       "    }\n",
       "\n",
       "    .dataframe tbody tr th {\n",
       "        vertical-align: top;\n",
       "    }\n",
       "\n",
       "    .dataframe thead th {\n",
       "        text-align: right;\n",
       "    }\n",
       "</style>\n",
       "<table border=\"1\" class=\"dataframe\">\n",
       "  <thead>\n",
       "    <tr style=\"text-align: right;\">\n",
       "      <th></th>\n",
       "      <th>Row ID</th>\n",
       "      <th>Order ID</th>\n",
       "      <th>Order Date</th>\n",
       "      <th>Ship Date</th>\n",
       "      <th>Ship Mode</th>\n",
       "      <th>Customer ID</th>\n",
       "      <th>Customer Name</th>\n",
       "      <th>Segment</th>\n",
       "      <th>Postal Code</th>\n",
       "      <th>City</th>\n",
       "      <th>...</th>\n",
       "      <th>Product ID</th>\n",
       "      <th>Category</th>\n",
       "      <th>Sub-Category</th>\n",
       "      <th>Product Name</th>\n",
       "      <th>Sales</th>\n",
       "      <th>Quantity</th>\n",
       "      <th>Discount</th>\n",
       "      <th>Profit</th>\n",
       "      <th>Shipping Cost</th>\n",
       "      <th>Order Priority</th>\n",
       "    </tr>\n",
       "  </thead>\n",
       "  <tbody>\n",
       "    <tr>\n",
       "      <th>0</th>\n",
       "      <td>40098</td>\n",
       "      <td>CA-2014-AB10015140-41954</td>\n",
       "      <td>11-11-2014</td>\n",
       "      <td>11/13/2014</td>\n",
       "      <td>First Class</td>\n",
       "      <td>AB-100151402</td>\n",
       "      <td>Aaron Bergman</td>\n",
       "      <td>Consumer</td>\n",
       "      <td>73120.0</td>\n",
       "      <td>Oklahoma City</td>\n",
       "      <td>...</td>\n",
       "      <td>TEC-PH-5816</td>\n",
       "      <td>Technology</td>\n",
       "      <td>Phones</td>\n",
       "      <td>Samsung Convoy 3</td>\n",
       "      <td>$221.98</td>\n",
       "      <td>2</td>\n",
       "      <td>0.0</td>\n",
       "      <td>$62.15</td>\n",
       "      <td>40.77</td>\n",
       "      <td>High</td>\n",
       "    </tr>\n",
       "    <tr>\n",
       "      <th>1</th>\n",
       "      <td>26341</td>\n",
       "      <td>IN-2014-JR162107-41675</td>\n",
       "      <td>02-05-2014</td>\n",
       "      <td>02-07-2014</td>\n",
       "      <td>Second Class</td>\n",
       "      <td>JR-162107</td>\n",
       "      <td>Justin Ritter</td>\n",
       "      <td>Corporate</td>\n",
       "      <td>NaN</td>\n",
       "      <td>Wollongong</td>\n",
       "      <td>...</td>\n",
       "      <td>FUR-CH-5379</td>\n",
       "      <td>Furniture</td>\n",
       "      <td>Chairs</td>\n",
       "      <td>Novimex Executive Leather Armchair, Black</td>\n",
       "      <td>$3,709.40</td>\n",
       "      <td>9</td>\n",
       "      <td>0.1</td>\n",
       "      <td>($288.77)</td>\n",
       "      <td>923.63</td>\n",
       "      <td>Critical</td>\n",
       "    </tr>\n",
       "    <tr>\n",
       "      <th>2</th>\n",
       "      <td>25330</td>\n",
       "      <td>IN-2014-CR127307-41929</td>\n",
       "      <td>10/17/2014</td>\n",
       "      <td>10/18/2014</td>\n",
       "      <td>First Class</td>\n",
       "      <td>CR-127307</td>\n",
       "      <td>Craig Reiter</td>\n",
       "      <td>Consumer</td>\n",
       "      <td>NaN</td>\n",
       "      <td>Brisbane</td>\n",
       "      <td>...</td>\n",
       "      <td>TEC-PH-5356</td>\n",
       "      <td>Technology</td>\n",
       "      <td>Phones</td>\n",
       "      <td>Nokia Smart Phone, with Caller ID</td>\n",
       "      <td>$5,175.17</td>\n",
       "      <td>9</td>\n",
       "      <td>0.1</td>\n",
       "      <td>$919.97</td>\n",
       "      <td>915.49</td>\n",
       "      <td>Medium</td>\n",
       "    </tr>\n",
       "    <tr>\n",
       "      <th>3</th>\n",
       "      <td>13524</td>\n",
       "      <td>ES-2014-KM1637548-41667</td>\n",
       "      <td>1/28/2014</td>\n",
       "      <td>1/30/2014</td>\n",
       "      <td>First Class</td>\n",
       "      <td>KM-1637548</td>\n",
       "      <td>Katherine Murray</td>\n",
       "      <td>Home Office</td>\n",
       "      <td>NaN</td>\n",
       "      <td>Berlin</td>\n",
       "      <td>...</td>\n",
       "      <td>TEC-PH-5267</td>\n",
       "      <td>Technology</td>\n",
       "      <td>Phones</td>\n",
       "      <td>Motorola Smart Phone, Cordless</td>\n",
       "      <td>$2,892.51</td>\n",
       "      <td>5</td>\n",
       "      <td>0.1</td>\n",
       "      <td>($96.54)</td>\n",
       "      <td>910.16</td>\n",
       "      <td>Medium</td>\n",
       "    </tr>\n",
       "    <tr>\n",
       "      <th>4</th>\n",
       "      <td>47221</td>\n",
       "      <td>SG-2014-RH9495111-41948</td>\n",
       "      <td>11-05-2014</td>\n",
       "      <td>11-06-2014</td>\n",
       "      <td>Same Day</td>\n",
       "      <td>RH-9495111</td>\n",
       "      <td>Rick Hansen</td>\n",
       "      <td>Consumer</td>\n",
       "      <td>NaN</td>\n",
       "      <td>Dakar</td>\n",
       "      <td>...</td>\n",
       "      <td>TEC-CO-6011</td>\n",
       "      <td>Technology</td>\n",
       "      <td>Copiers</td>\n",
       "      <td>Sharp Wireless Fax, High-Speed</td>\n",
       "      <td>$2,832.96</td>\n",
       "      <td>8</td>\n",
       "      <td>0.0</td>\n",
       "      <td>$311.52</td>\n",
       "      <td>903.04</td>\n",
       "      <td>Critical</td>\n",
       "    </tr>\n",
       "  </tbody>\n",
       "</table>\n",
       "<p>5 rows × 24 columns</p>\n",
       "</div>"
      ],
      "text/plain": [
       "   Row ID                  Order ID  Order Date   Ship Date     Ship Mode  \\\n",
       "0   40098  CA-2014-AB10015140-41954  11-11-2014  11/13/2014   First Class   \n",
       "1   26341    IN-2014-JR162107-41675  02-05-2014  02-07-2014  Second Class   \n",
       "2   25330    IN-2014-CR127307-41929  10/17/2014  10/18/2014   First Class   \n",
       "3   13524   ES-2014-KM1637548-41667   1/28/2014   1/30/2014   First Class   \n",
       "4   47221   SG-2014-RH9495111-41948  11-05-2014  11-06-2014      Same Day   \n",
       "\n",
       "    Customer ID     Customer Name      Segment  Postal Code           City  \\\n",
       "0  AB-100151402     Aaron Bergman     Consumer      73120.0  Oklahoma City   \n",
       "1     JR-162107     Justin Ritter    Corporate          NaN     Wollongong   \n",
       "2     CR-127307      Craig Reiter     Consumer          NaN       Brisbane   \n",
       "3    KM-1637548  Katherine Murray  Home Office          NaN         Berlin   \n",
       "4    RH-9495111       Rick Hansen     Consumer          NaN          Dakar   \n",
       "\n",
       "   ...   Product ID    Category Sub-Category  \\\n",
       "0  ...  TEC-PH-5816  Technology       Phones   \n",
       "1  ...  FUR-CH-5379   Furniture       Chairs   \n",
       "2  ...  TEC-PH-5356  Technology       Phones   \n",
       "3  ...  TEC-PH-5267  Technology       Phones   \n",
       "4  ...  TEC-CO-6011  Technology      Copiers   \n",
       "\n",
       "                                Product Name       Sales Quantity Discount  \\\n",
       "0                           Samsung Convoy 3    $221.98         2      0.0   \n",
       "1  Novimex Executive Leather Armchair, Black  $3,709.40         9      0.1   \n",
       "2          Nokia Smart Phone, with Caller ID  $5,175.17         9      0.1   \n",
       "3             Motorola Smart Phone, Cordless  $2,892.51         5      0.1   \n",
       "4             Sharp Wireless Fax, High-Speed  $2,832.96         8      0.0   \n",
       "\n",
       "      Profit Shipping Cost  Order Priority  \n",
       "0    $62.15          40.77            High  \n",
       "1  ($288.77)        923.63        Critical  \n",
       "2   $919.97         915.49          Medium  \n",
       "3   ($96.54)        910.16          Medium  \n",
       "4   $311.52         903.04        Critical  \n",
       "\n",
       "[5 rows x 24 columns]"
      ]
     },
     "execution_count": 14,
     "metadata": {},
     "output_type": "execute_result"
    }
   ],
   "source": [
    "data.head()"
   ]
  },
  {
   "cell_type": "code",
   "execution_count": 15,
   "id": "fe463f8f",
   "metadata": {},
   "outputs": [
    {
     "data": {
      "text/html": [
       "<div>\n",
       "<style scoped>\n",
       "    .dataframe tbody tr th:only-of-type {\n",
       "        vertical-align: middle;\n",
       "    }\n",
       "\n",
       "    .dataframe tbody tr th {\n",
       "        vertical-align: top;\n",
       "    }\n",
       "\n",
       "    .dataframe thead th {\n",
       "        text-align: right;\n",
       "    }\n",
       "</style>\n",
       "<table border=\"1\" class=\"dataframe\">\n",
       "  <thead>\n",
       "    <tr style=\"text-align: right;\">\n",
       "      <th></th>\n",
       "      <th>Order ID</th>\n",
       "      <th>Ship Mode</th>\n",
       "      <th>Customer Name</th>\n",
       "      <th>Segment</th>\n",
       "      <th>City</th>\n",
       "      <th>State</th>\n",
       "      <th>Country</th>\n",
       "      <th>Region</th>\n",
       "      <th>Market</th>\n",
       "      <th>Product ID</th>\n",
       "      <th>Category</th>\n",
       "      <th>Sub-Category</th>\n",
       "      <th>Product Name</th>\n",
       "      <th>Sales</th>\n",
       "      <th>Quantity</th>\n",
       "      <th>Discount</th>\n",
       "      <th>Profit</th>\n",
       "      <th>Shipping Cost</th>\n",
       "      <th>Order Priority</th>\n",
       "    </tr>\n",
       "  </thead>\n",
       "  <tbody>\n",
       "    <tr>\n",
       "      <th>0</th>\n",
       "      <td>CA-2014-AB10015140-41954</td>\n",
       "      <td>First Class</td>\n",
       "      <td>Aaron Bergman</td>\n",
       "      <td>Consumer</td>\n",
       "      <td>Oklahoma City</td>\n",
       "      <td>Oklahoma</td>\n",
       "      <td>United States</td>\n",
       "      <td>Central US</td>\n",
       "      <td>USCA</td>\n",
       "      <td>TEC-PH-5816</td>\n",
       "      <td>Technology</td>\n",
       "      <td>Phones</td>\n",
       "      <td>Samsung Convoy 3</td>\n",
       "      <td>$221.98</td>\n",
       "      <td>2</td>\n",
       "      <td>0.0</td>\n",
       "      <td>$62.15</td>\n",
       "      <td>40.77</td>\n",
       "      <td>High</td>\n",
       "    </tr>\n",
       "    <tr>\n",
       "      <th>1</th>\n",
       "      <td>IN-2014-JR162107-41675</td>\n",
       "      <td>Second Class</td>\n",
       "      <td>Justin Ritter</td>\n",
       "      <td>Corporate</td>\n",
       "      <td>Wollongong</td>\n",
       "      <td>New South Wales</td>\n",
       "      <td>Australia</td>\n",
       "      <td>Oceania</td>\n",
       "      <td>Asia Pacific</td>\n",
       "      <td>FUR-CH-5379</td>\n",
       "      <td>Furniture</td>\n",
       "      <td>Chairs</td>\n",
       "      <td>Novimex Executive Leather Armchair, Black</td>\n",
       "      <td>$3,709.40</td>\n",
       "      <td>9</td>\n",
       "      <td>0.1</td>\n",
       "      <td>($288.77)</td>\n",
       "      <td>923.63</td>\n",
       "      <td>Critical</td>\n",
       "    </tr>\n",
       "  </tbody>\n",
       "</table>\n",
       "</div>"
      ],
      "text/plain": [
       "                   Order ID     Ship Mode  Customer Name    Segment  \\\n",
       "0  CA-2014-AB10015140-41954   First Class  Aaron Bergman   Consumer   \n",
       "1    IN-2014-JR162107-41675  Second Class  Justin Ritter  Corporate   \n",
       "\n",
       "            City            State        Country      Region        Market  \\\n",
       "0  Oklahoma City         Oklahoma  United States  Central US          USCA   \n",
       "1     Wollongong  New South Wales      Australia     Oceania  Asia Pacific   \n",
       "\n",
       "    Product ID    Category Sub-Category  \\\n",
       "0  TEC-PH-5816  Technology       Phones   \n",
       "1  FUR-CH-5379   Furniture       Chairs   \n",
       "\n",
       "                                Product Name       Sales  Quantity  Discount  \\\n",
       "0                           Samsung Convoy 3    $221.98          2       0.0   \n",
       "1  Novimex Executive Leather Armchair, Black  $3,709.40          9       0.1   \n",
       "\n",
       "      Profit  Shipping Cost Order Priority  \n",
       "0    $62.15           40.77           High  \n",
       "1  ($288.77)         923.63       Critical  "
      ]
     },
     "execution_count": 15,
     "metadata": {},
     "output_type": "execute_result"
    }
   ],
   "source": [
    "data.drop(columns=['Row ID','Order Date', 'Ship Date','Customer ID','Postal Code'], inplace=True)\n",
    "data.head(2)"
   ]
  },
  {
   "cell_type": "code",
   "execution_count": 16,
   "id": "e991bbad",
   "metadata": {},
   "outputs": [
    {
     "data": {
      "text/html": [
       "<div>\n",
       "<style scoped>\n",
       "    .dataframe tbody tr th:only-of-type {\n",
       "        vertical-align: middle;\n",
       "    }\n",
       "\n",
       "    .dataframe tbody tr th {\n",
       "        vertical-align: top;\n",
       "    }\n",
       "\n",
       "    .dataframe thead th {\n",
       "        text-align: right;\n",
       "    }\n",
       "</style>\n",
       "<table border=\"1\" class=\"dataframe\">\n",
       "  <thead>\n",
       "    <tr style=\"text-align: right;\">\n",
       "      <th></th>\n",
       "      <th>Order ID</th>\n",
       "      <th>Ship Mode</th>\n",
       "      <th>Customer Name</th>\n",
       "      <th>Segment</th>\n",
       "      <th>City</th>\n",
       "      <th>State</th>\n",
       "      <th>Country</th>\n",
       "      <th>Region</th>\n",
       "      <th>Market</th>\n",
       "      <th>Product ID</th>\n",
       "      <th>...</th>\n",
       "      <th>Sub-Category</th>\n",
       "      <th>Product Name</th>\n",
       "      <th>Sales</th>\n",
       "      <th>Quantity</th>\n",
       "      <th>Discount</th>\n",
       "      <th>Profit</th>\n",
       "      <th>Shipping Cost</th>\n",
       "      <th>Order Priority</th>\n",
       "      <th>Order_Date</th>\n",
       "      <th>Ship_Date</th>\n",
       "    </tr>\n",
       "  </thead>\n",
       "  <tbody>\n",
       "    <tr>\n",
       "      <th>0</th>\n",
       "      <td>CA-2014-AB10015140-41954</td>\n",
       "      <td>First Class</td>\n",
       "      <td>Aaron Bergman</td>\n",
       "      <td>Consumer</td>\n",
       "      <td>Oklahoma City</td>\n",
       "      <td>Oklahoma</td>\n",
       "      <td>United States</td>\n",
       "      <td>Central US</td>\n",
       "      <td>USCA</td>\n",
       "      <td>TEC-PH-5816</td>\n",
       "      <td>...</td>\n",
       "      <td>Phones</td>\n",
       "      <td>Samsung Convoy 3</td>\n",
       "      <td>$221.98</td>\n",
       "      <td>2</td>\n",
       "      <td>0.0</td>\n",
       "      <td>$62.15</td>\n",
       "      <td>40.77</td>\n",
       "      <td>High</td>\n",
       "      <td>2014-11-11</td>\n",
       "      <td>2014-11-13</td>\n",
       "    </tr>\n",
       "    <tr>\n",
       "      <th>1</th>\n",
       "      <td>IN-2014-JR162107-41675</td>\n",
       "      <td>Second Class</td>\n",
       "      <td>Justin Ritter</td>\n",
       "      <td>Corporate</td>\n",
       "      <td>Wollongong</td>\n",
       "      <td>New South Wales</td>\n",
       "      <td>Australia</td>\n",
       "      <td>Oceania</td>\n",
       "      <td>Asia Pacific</td>\n",
       "      <td>FUR-CH-5379</td>\n",
       "      <td>...</td>\n",
       "      <td>Chairs</td>\n",
       "      <td>Novimex Executive Leather Armchair, Black</td>\n",
       "      <td>$3,709.40</td>\n",
       "      <td>9</td>\n",
       "      <td>0.1</td>\n",
       "      <td>($288.77)</td>\n",
       "      <td>923.63</td>\n",
       "      <td>Critical</td>\n",
       "      <td>2014-02-05</td>\n",
       "      <td>2014-02-07</td>\n",
       "    </tr>\n",
       "  </tbody>\n",
       "</table>\n",
       "<p>2 rows × 21 columns</p>\n",
       "</div>"
      ],
      "text/plain": [
       "                   Order ID     Ship Mode  Customer Name    Segment  \\\n",
       "0  CA-2014-AB10015140-41954   First Class  Aaron Bergman   Consumer   \n",
       "1    IN-2014-JR162107-41675  Second Class  Justin Ritter  Corporate   \n",
       "\n",
       "            City            State        Country      Region        Market  \\\n",
       "0  Oklahoma City         Oklahoma  United States  Central US          USCA   \n",
       "1     Wollongong  New South Wales      Australia     Oceania  Asia Pacific   \n",
       "\n",
       "    Product ID  ... Sub-Category                               Product Name  \\\n",
       "0  TEC-PH-5816  ...       Phones                           Samsung Convoy 3   \n",
       "1  FUR-CH-5379  ...       Chairs  Novimex Executive Leather Armchair, Black   \n",
       "\n",
       "        Sales Quantity  Discount     Profit Shipping Cost  Order Priority  \\\n",
       "0    $221.98         2       0.0    $62.15          40.77            High   \n",
       "1  $3,709.40         9       0.1  ($288.77)        923.63        Critical   \n",
       "\n",
       "  Order_Date  Ship_Date  \n",
       "0 2014-11-11 2014-11-13  \n",
       "1 2014-02-05 2014-02-07  \n",
       "\n",
       "[2 rows x 21 columns]"
      ]
     },
     "execution_count": 16,
     "metadata": {},
     "output_type": "execute_result"
    }
   ],
   "source": [
    "df = pd.concat([data, Order_date, Ship_date], axis=1)\n",
    "df.head(2)"
   ]
  },
  {
   "cell_type": "code",
   "execution_count": 17,
   "id": "ae8a9cb7",
   "metadata": {},
   "outputs": [
    {
     "data": {
      "text/plain": [
       "0       2014-11-11\n",
       "1       2014-02-05\n",
       "2       2014-10-17\n",
       "3       2014-01-28\n",
       "4       2014-11-05\n",
       "           ...    \n",
       "51285   2015-06-19\n",
       "51286   2014-05-06\n",
       "51287   2012-08-26\n",
       "51288   2013-02-17\n",
       "51289   2013-05-22\n",
       "Name: Order_Date, Length: 51290, dtype: datetime64[ns]"
      ]
     },
     "execution_count": 17,
     "metadata": {},
     "output_type": "execute_result"
    }
   ],
   "source": [
    "df['Order_Date']"
   ]
  },
  {
   "cell_type": "code",
   "execution_count": 18,
   "id": "b8fbefb4",
   "metadata": {},
   "outputs": [
    {
     "data": {
      "text/plain": [
       "0       2014-11-13\n",
       "1       2014-02-07\n",
       "2       2014-10-18\n",
       "3       2014-01-30\n",
       "4       2014-11-06\n",
       "           ...    \n",
       "51285   2015-06-19\n",
       "51286   2014-05-10\n",
       "51287   2012-08-31\n",
       "51288   2013-02-21\n",
       "51289   2013-05-26\n",
       "Name: Ship_Date, Length: 51290, dtype: datetime64[ns]"
      ]
     },
     "execution_count": 18,
     "metadata": {},
     "output_type": "execute_result"
    }
   ],
   "source": [
    "df['Ship_Date']"
   ]
  },
  {
   "cell_type": "code",
   "execution_count": 19,
   "id": "7ca3fd92",
   "metadata": {},
   "outputs": [
    {
     "data": {
      "text/plain": [
       "array(['Order ID', 'Ship Mode', 'Customer Name', 'Segment', 'City',\n",
       "       'State', 'Country', 'Region', 'Market', 'Product ID', 'Category',\n",
       "       'Sub-Category', 'Product Name', 'Sales', 'Quantity', 'Discount',\n",
       "       'Profit', 'Shipping Cost', 'Order Priority', 'Order_Date',\n",
       "       'Ship_Date'], dtype=object)"
      ]
     },
     "execution_count": 19,
     "metadata": {},
     "output_type": "execute_result"
    }
   ],
   "source": [
    "df.columns.values"
   ]
  },
  {
   "cell_type": "code",
   "execution_count": 20,
   "id": "cb706652",
   "metadata": {},
   "outputs": [],
   "source": [
    "df = df.reindex(columns=['Order ID','Order_Date',\n",
    "       'Ship_Date', 'Ship Mode', 'Customer Name', 'Segment', 'City',\n",
    "       'State', 'Country', 'Region', 'Market', 'Product ID', 'Category',\n",
    "       'Sub-Category', 'Product Name', 'Sales', 'Quantity', 'Discount',\n",
    "       'Profit', 'Shipping Cost', 'Order Priority'])"
   ]
  },
  {
   "cell_type": "code",
   "execution_count": 21,
   "id": "eb94d631",
   "metadata": {},
   "outputs": [
    {
     "data": {
      "text/html": [
       "<div>\n",
       "<style scoped>\n",
       "    .dataframe tbody tr th:only-of-type {\n",
       "        vertical-align: middle;\n",
       "    }\n",
       "\n",
       "    .dataframe tbody tr th {\n",
       "        vertical-align: top;\n",
       "    }\n",
       "\n",
       "    .dataframe thead th {\n",
       "        text-align: right;\n",
       "    }\n",
       "</style>\n",
       "<table border=\"1\" class=\"dataframe\">\n",
       "  <thead>\n",
       "    <tr style=\"text-align: right;\">\n",
       "      <th></th>\n",
       "      <th>Order ID</th>\n",
       "      <th>Order_Date</th>\n",
       "      <th>Ship_Date</th>\n",
       "      <th>Ship Mode</th>\n",
       "      <th>Customer Name</th>\n",
       "      <th>Segment</th>\n",
       "      <th>City</th>\n",
       "      <th>State</th>\n",
       "      <th>Country</th>\n",
       "      <th>Region</th>\n",
       "      <th>...</th>\n",
       "      <th>Product ID</th>\n",
       "      <th>Category</th>\n",
       "      <th>Sub-Category</th>\n",
       "      <th>Product Name</th>\n",
       "      <th>Sales</th>\n",
       "      <th>Quantity</th>\n",
       "      <th>Discount</th>\n",
       "      <th>Profit</th>\n",
       "      <th>Shipping Cost</th>\n",
       "      <th>Order Priority</th>\n",
       "    </tr>\n",
       "  </thead>\n",
       "  <tbody>\n",
       "    <tr>\n",
       "      <th>0</th>\n",
       "      <td>CA-2014-AB10015140-41954</td>\n",
       "      <td>2014-11-11</td>\n",
       "      <td>2014-11-13</td>\n",
       "      <td>First Class</td>\n",
       "      <td>Aaron Bergman</td>\n",
       "      <td>Consumer</td>\n",
       "      <td>Oklahoma City</td>\n",
       "      <td>Oklahoma</td>\n",
       "      <td>United States</td>\n",
       "      <td>Central US</td>\n",
       "      <td>...</td>\n",
       "      <td>TEC-PH-5816</td>\n",
       "      <td>Technology</td>\n",
       "      <td>Phones</td>\n",
       "      <td>Samsung Convoy 3</td>\n",
       "      <td>$221.98</td>\n",
       "      <td>2</td>\n",
       "      <td>0.0</td>\n",
       "      <td>$62.15</td>\n",
       "      <td>40.77</td>\n",
       "      <td>High</td>\n",
       "    </tr>\n",
       "    <tr>\n",
       "      <th>1</th>\n",
       "      <td>IN-2014-JR162107-41675</td>\n",
       "      <td>2014-02-05</td>\n",
       "      <td>2014-02-07</td>\n",
       "      <td>Second Class</td>\n",
       "      <td>Justin Ritter</td>\n",
       "      <td>Corporate</td>\n",
       "      <td>Wollongong</td>\n",
       "      <td>New South Wales</td>\n",
       "      <td>Australia</td>\n",
       "      <td>Oceania</td>\n",
       "      <td>...</td>\n",
       "      <td>FUR-CH-5379</td>\n",
       "      <td>Furniture</td>\n",
       "      <td>Chairs</td>\n",
       "      <td>Novimex Executive Leather Armchair, Black</td>\n",
       "      <td>$3,709.40</td>\n",
       "      <td>9</td>\n",
       "      <td>0.1</td>\n",
       "      <td>($288.77)</td>\n",
       "      <td>923.63</td>\n",
       "      <td>Critical</td>\n",
       "    </tr>\n",
       "  </tbody>\n",
       "</table>\n",
       "<p>2 rows × 21 columns</p>\n",
       "</div>"
      ],
      "text/plain": [
       "                   Order ID Order_Date  Ship_Date     Ship Mode  \\\n",
       "0  CA-2014-AB10015140-41954 2014-11-11 2014-11-13   First Class   \n",
       "1    IN-2014-JR162107-41675 2014-02-05 2014-02-07  Second Class   \n",
       "\n",
       "   Customer Name    Segment           City            State        Country  \\\n",
       "0  Aaron Bergman   Consumer  Oklahoma City         Oklahoma  United States   \n",
       "1  Justin Ritter  Corporate     Wollongong  New South Wales      Australia   \n",
       "\n",
       "       Region  ...   Product ID    Category Sub-Category  \\\n",
       "0  Central US  ...  TEC-PH-5816  Technology       Phones   \n",
       "1     Oceania  ...  FUR-CH-5379   Furniture       Chairs   \n",
       "\n",
       "                                Product Name       Sales Quantity  Discount  \\\n",
       "0                           Samsung Convoy 3    $221.98         2       0.0   \n",
       "1  Novimex Executive Leather Armchair, Black  $3,709.40         9       0.1   \n",
       "\n",
       "      Profit Shipping Cost  Order Priority  \n",
       "0    $62.15          40.77            High  \n",
       "1  ($288.77)        923.63        Critical  \n",
       "\n",
       "[2 rows x 21 columns]"
      ]
     },
     "execution_count": 21,
     "metadata": {},
     "output_type": "execute_result"
    }
   ],
   "source": [
    "df.head(2)"
   ]
  },
  {
   "cell_type": "code",
   "execution_count": 22,
   "id": "d3e9f024",
   "metadata": {},
   "outputs": [
    {
     "data": {
      "text/plain": [
       "Order ID                  object\n",
       "Order_Date        datetime64[ns]\n",
       "Ship_Date         datetime64[ns]\n",
       "Ship Mode                 object\n",
       "Customer Name             object\n",
       "Segment                   object\n",
       "City                      object\n",
       "State                     object\n",
       "Country                   object\n",
       "Region                    object\n",
       "Market                    object\n",
       "Product ID                object\n",
       "Category                  object\n",
       "Sub-Category              object\n",
       "Product Name              object\n",
       "Sales                     object\n",
       "Quantity                   int64\n",
       "Discount                 float64\n",
       "Profit                    object\n",
       "Shipping Cost            float64\n",
       "Order Priority            object\n",
       "dtype: object"
      ]
     },
     "execution_count": 22,
     "metadata": {},
     "output_type": "execute_result"
    }
   ],
   "source": [
    "df.dtypes"
   ]
  },
  {
   "cell_type": "code",
   "execution_count": 23,
   "id": "d976e248",
   "metadata": {},
   "outputs": [],
   "source": [
    "df['Shipping Cost'] = df['Shipping Cost'].astype(int)"
   ]
  },
  {
   "cell_type": "code",
   "execution_count": 24,
   "id": "0953e11e",
   "metadata": {},
   "outputs": [
    {
     "data": {
      "text/plain": [
       "<bound method IndexOpsMixin.value_counts of 0         40\n",
       "1        923\n",
       "2        915\n",
       "3        910\n",
       "4        903\n",
       "        ... \n",
       "51285      1\n",
       "51286      1\n",
       "51287      1\n",
       "51288      1\n",
       "51289      1\n",
       "Name: Shipping Cost, Length: 51290, dtype: int64>"
      ]
     },
     "execution_count": 24,
     "metadata": {},
     "output_type": "execute_result"
    }
   ],
   "source": [
    "df['Shipping Cost'].value_counts"
   ]
  },
  {
   "cell_type": "code",
   "execution_count": 25,
   "id": "2aab5ef4",
   "metadata": {},
   "outputs": [
    {
     "name": "stdout",
     "output_type": "stream",
     "text": [
      "yes\n"
     ]
    }
   ],
   "source": [
    "if df['Sales'].str.contains('$').all():\n",
    "    print('yes')"
   ]
  },
  {
   "cell_type": "code",
   "execution_count": 26,
   "id": "3be30907",
   "metadata": {},
   "outputs": [
    {
     "name": "stdout",
     "output_type": "stream",
     "text": [
      "yes\n"
     ]
    }
   ],
   "source": [
    "if df['Profit'].str.contains(',').any():\n",
    "    print('yes')"
   ]
  },
  {
   "cell_type": "code",
   "execution_count": 27,
   "id": "eea90fc6",
   "metadata": {},
   "outputs": [
    {
     "data": {
      "text/plain": [
       "0          $221.98 \n",
       "1        $3,709.40 \n",
       "2        $5,175.17 \n",
       "3        $2,892.51 \n",
       "4        $2,832.96 \n",
       "            ...    \n",
       "51285       $65.10 \n",
       "51286       $16.72 \n",
       "51287        $8.56 \n",
       "51288       $13.44 \n",
       "51289       $61.38 \n",
       "Name: Sales, Length: 51290, dtype: object"
      ]
     },
     "execution_count": 27,
     "metadata": {},
     "output_type": "execute_result"
    }
   ],
   "source": [
    "df['Sales']"
   ]
  },
  {
   "cell_type": "code",
   "execution_count": 28,
   "id": "a61a4b7a",
   "metadata": {},
   "outputs": [
    {
     "data": {
      "text/plain": [
       "0          221.98 \n",
       "1        3,709.40 \n",
       "2        5,175.17 \n",
       "3        2,892.51 \n",
       "4        2,832.96 \n",
       "           ...    \n",
       "51285       65.10 \n",
       "51286       16.72 \n",
       "51287        8.56 \n",
       "51288       13.44 \n",
       "51289       61.38 \n",
       "Name: Sales, Length: 51290, dtype: object"
      ]
     },
     "execution_count": 28,
     "metadata": {},
     "output_type": "execute_result"
    }
   ],
   "source": [
    "df['Sales'] = df['Sales'].str.replace('$', '', regex=True)\n",
    "df['Sales']"
   ]
  },
  {
   "cell_type": "code",
   "execution_count": 29,
   "id": "d6d52ffb",
   "metadata": {},
   "outputs": [
    {
     "data": {
      "text/plain": [
       "0         221.98 \n",
       "1        3709.40 \n",
       "2        5175.17 \n",
       "3        2892.51 \n",
       "4        2832.96 \n",
       "           ...   \n",
       "51285      65.10 \n",
       "51286      16.72 \n",
       "51287       8.56 \n",
       "51288      13.44 \n",
       "51289      61.38 \n",
       "Name: Sales, Length: 51290, dtype: object"
      ]
     },
     "execution_count": 29,
     "metadata": {},
     "output_type": "execute_result"
    }
   ],
   "source": [
    "df['Sales'] = df['Sales'].str.replace(',', '', regex=True)\n",
    "df['Sales']"
   ]
  },
  {
   "cell_type": "code",
   "execution_count": 30,
   "id": "4b8e577f",
   "metadata": {},
   "outputs": [
    {
     "data": {
      "text/plain": [
       "0          $62.15 \n",
       "1        ($288.77)\n",
       "2         $919.97 \n",
       "3         ($96.54)\n",
       "4         $311.52 \n",
       "           ...    \n",
       "51285       $4.50 \n",
       "51286       $3.34 \n",
       "51287       $2.48 \n",
       "51288       $2.40 \n",
       "51289       $1.80 \n",
       "Name: Profit, Length: 51290, dtype: object"
      ]
     },
     "execution_count": 30,
     "metadata": {},
     "output_type": "execute_result"
    }
   ],
   "source": [
    "df['Profit']"
   ]
  },
  {
   "cell_type": "code",
   "execution_count": 31,
   "id": "dd903805",
   "metadata": {},
   "outputs": [
    {
     "data": {
      "text/plain": [
       "0          62.15 \n",
       "1        (288.77)\n",
       "2         919.97 \n",
       "3         (96.54)\n",
       "4         311.52 \n",
       "           ...   \n",
       "51285       4.50 \n",
       "51286       3.34 \n",
       "51287       2.48 \n",
       "51288       2.40 \n",
       "51289       1.80 \n",
       "Name: Profit, Length: 51290, dtype: object"
      ]
     },
     "execution_count": 31,
     "metadata": {},
     "output_type": "execute_result"
    }
   ],
   "source": [
    "df['Profit'] = df['Profit'].str.replace('$', '', regex=True)\n",
    "df['Profit']"
   ]
  },
  {
   "cell_type": "code",
   "execution_count": 32,
   "id": "9d0d85de",
   "metadata": {},
   "outputs": [
    {
     "data": {
      "text/plain": [
       "0          62.15 \n",
       "1        (288.77)\n",
       "2         919.97 \n",
       "3         (96.54)\n",
       "4         311.52 \n",
       "           ...   \n",
       "51285       4.50 \n",
       "51286       3.34 \n",
       "51287       2.48 \n",
       "51288       2.40 \n",
       "51289       1.80 \n",
       "Name: Profit, Length: 51290, dtype: object"
      ]
     },
     "execution_count": 32,
     "metadata": {},
     "output_type": "execute_result"
    }
   ],
   "source": [
    "df['Profit'] = df['Profit'].str.replace(',', '', regex=True)\n",
    "df['Profit']"
   ]
  },
  {
   "cell_type": "code",
   "execution_count": 33,
   "id": "1d4edcb8",
   "metadata": {},
   "outputs": [
    {
     "data": {
      "text/plain": [
       "0         62.15 \n",
       "1        288.77)\n",
       "2        919.97 \n",
       "3         96.54)\n",
       "4        311.52 \n",
       "          ...   \n",
       "51285      4.50 \n",
       "51286      3.34 \n",
       "51287      2.48 \n",
       "51288      2.40 \n",
       "51289      1.80 \n",
       "Name: Profit, Length: 51290, dtype: object"
      ]
     },
     "execution_count": 33,
     "metadata": {},
     "output_type": "execute_result"
    }
   ],
   "source": [
    "df['Profit'] = df['Profit'].str.replace('(', '', regex=True)\n",
    "df['Profit']"
   ]
  },
  {
   "cell_type": "code",
   "execution_count": 34,
   "id": "4b709eec",
   "metadata": {},
   "outputs": [
    {
     "data": {
      "text/plain": [
       "0         62.15 \n",
       "1         288.77\n",
       "2        919.97 \n",
       "3          96.54\n",
       "4        311.52 \n",
       "          ...   \n",
       "51285      4.50 \n",
       "51286      3.34 \n",
       "51287      2.48 \n",
       "51288      2.40 \n",
       "51289      1.80 \n",
       "Name: Profit, Length: 51290, dtype: object"
      ]
     },
     "execution_count": 34,
     "metadata": {},
     "output_type": "execute_result"
    }
   ],
   "source": [
    "df['Profit'] = df['Profit'].str.replace(')', '', regex=True)\n",
    "df['Profit']"
   ]
  },
  {
   "cell_type": "code",
   "execution_count": 35,
   "id": "baa4f364",
   "metadata": {},
   "outputs": [
    {
     "data": {
      "text/plain": [
       "Order ID                  object\n",
       "Order_Date        datetime64[ns]\n",
       "Ship_Date         datetime64[ns]\n",
       "Ship Mode                 object\n",
       "Customer Name             object\n",
       "Segment                   object\n",
       "City                      object\n",
       "State                     object\n",
       "Country                   object\n",
       "Region                    object\n",
       "Market                    object\n",
       "Product ID                object\n",
       "Category                  object\n",
       "Sub-Category              object\n",
       "Product Name              object\n",
       "Sales                     object\n",
       "Quantity                   int64\n",
       "Discount                 float64\n",
       "Profit                    object\n",
       "Shipping Cost              int64\n",
       "Order Priority            object\n",
       "dtype: object"
      ]
     },
     "execution_count": 35,
     "metadata": {},
     "output_type": "execute_result"
    }
   ],
   "source": [
    "df.dtypes"
   ]
  },
  {
   "cell_type": "code",
   "execution_count": 36,
   "id": "f3a5a492",
   "metadata": {},
   "outputs": [
    {
     "data": {
      "text/plain": [
       "0         62.15\n",
       "1        288.77\n",
       "2        919.97\n",
       "3         96.54\n",
       "4        311.52\n",
       "          ...  \n",
       "51285      4.50\n",
       "51286      3.34\n",
       "51287      2.48\n",
       "51288      2.40\n",
       "51289      1.80\n",
       "Name: Profit, Length: 51290, dtype: float64"
      ]
     },
     "execution_count": 36,
     "metadata": {},
     "output_type": "execute_result"
    }
   ],
   "source": [
    "df['Profit'] = pd.to_numeric(df['Profit'] , downcast= 'signed')\n",
    "df['Profit'] "
   ]
  },
  {
   "cell_type": "code",
   "execution_count": 37,
   "id": "fc8043c6",
   "metadata": {},
   "outputs": [
    {
     "data": {
      "text/plain": [
       "0         221.98\n",
       "1        3709.40\n",
       "2        5175.17\n",
       "3        2892.51\n",
       "4        2832.96\n",
       "          ...   \n",
       "51285      65.10\n",
       "51286      16.72\n",
       "51287       8.56\n",
       "51288      13.44\n",
       "51289      61.38\n",
       "Name: Sales, Length: 51290, dtype: float64"
      ]
     },
     "execution_count": 37,
     "metadata": {},
     "output_type": "execute_result"
    }
   ],
   "source": [
    "df['Sales'] = pd.to_numeric(df['Sales'] , downcast= 'integer')\n",
    "df['Sales'] "
   ]
  },
  {
   "cell_type": "code",
   "execution_count": 38,
   "id": "97cab55f",
   "metadata": {},
   "outputs": [
    {
     "data": {
      "text/plain": [
       "Order ID                  object\n",
       "Order_Date        datetime64[ns]\n",
       "Ship_Date         datetime64[ns]\n",
       "Ship Mode                 object\n",
       "Customer Name             object\n",
       "Segment                   object\n",
       "City                      object\n",
       "State                     object\n",
       "Country                   object\n",
       "Region                    object\n",
       "Market                    object\n",
       "Product ID                object\n",
       "Category                  object\n",
       "Sub-Category              object\n",
       "Product Name              object\n",
       "Sales                    float64\n",
       "Quantity                   int64\n",
       "Discount                 float64\n",
       "Profit                   float64\n",
       "Shipping Cost              int64\n",
       "Order Priority            object\n",
       "dtype: object"
      ]
     },
     "execution_count": 38,
     "metadata": {},
     "output_type": "execute_result"
    }
   ],
   "source": [
    "df.dtypes"
   ]
  },
  {
   "cell_type": "code",
   "execution_count": 39,
   "id": "f716bb60",
   "metadata": {},
   "outputs": [],
   "source": [
    "df['Profit'] = df['Profit'].astype(int)\n",
    "df['Sales'] = df['Sales'].astype(int)\n"
   ]
  },
  {
   "cell_type": "code",
   "execution_count": 40,
   "id": "3ab1a883",
   "metadata": {},
   "outputs": [
    {
     "data": {
      "text/plain": [
       "Order ID                  object\n",
       "Order_Date        datetime64[ns]\n",
       "Ship_Date         datetime64[ns]\n",
       "Ship Mode                 object\n",
       "Customer Name             object\n",
       "Segment                   object\n",
       "City                      object\n",
       "State                     object\n",
       "Country                   object\n",
       "Region                    object\n",
       "Market                    object\n",
       "Product ID                object\n",
       "Category                  object\n",
       "Sub-Category              object\n",
       "Product Name              object\n",
       "Sales                      int64\n",
       "Quantity                   int64\n",
       "Discount                 float64\n",
       "Profit                     int64\n",
       "Shipping Cost              int64\n",
       "Order Priority            object\n",
       "dtype: object"
      ]
     },
     "execution_count": 40,
     "metadata": {},
     "output_type": "execute_result"
    }
   ],
   "source": [
    "df.dtypes"
   ]
  },
  {
   "cell_type": "code",
   "execution_count": 41,
   "id": "d356bcae",
   "metadata": {},
   "outputs": [],
   "source": [
    "#1. Total, how many orders have cross the shipping cost of 500?"
   ]
  },
  {
   "cell_type": "code",
   "execution_count": 42,
   "id": "be16d73c",
   "metadata": {},
   "outputs": [
    {
     "data": {
      "text/html": [
       "<div>\n",
       "<style scoped>\n",
       "    .dataframe tbody tr th:only-of-type {\n",
       "        vertical-align: middle;\n",
       "    }\n",
       "\n",
       "    .dataframe tbody tr th {\n",
       "        vertical-align: top;\n",
       "    }\n",
       "\n",
       "    .dataframe thead th {\n",
       "        text-align: right;\n",
       "    }\n",
       "</style>\n",
       "<table border=\"1\" class=\"dataframe\">\n",
       "  <thead>\n",
       "    <tr style=\"text-align: right;\">\n",
       "      <th></th>\n",
       "      <th>Order ID</th>\n",
       "      <th>Order_Date</th>\n",
       "      <th>Ship_Date</th>\n",
       "      <th>Ship Mode</th>\n",
       "      <th>Customer Name</th>\n",
       "      <th>Segment</th>\n",
       "      <th>City</th>\n",
       "      <th>State</th>\n",
       "      <th>Country</th>\n",
       "      <th>Region</th>\n",
       "      <th>...</th>\n",
       "      <th>Product ID</th>\n",
       "      <th>Category</th>\n",
       "      <th>Sub-Category</th>\n",
       "      <th>Product Name</th>\n",
       "      <th>Sales</th>\n",
       "      <th>Quantity</th>\n",
       "      <th>Discount</th>\n",
       "      <th>Profit</th>\n",
       "      <th>Shipping Cost</th>\n",
       "      <th>Order Priority</th>\n",
       "    </tr>\n",
       "  </thead>\n",
       "  <tbody>\n",
       "    <tr>\n",
       "      <th>0</th>\n",
       "      <td>CA-2014-AB10015140-41954</td>\n",
       "      <td>2014-11-11</td>\n",
       "      <td>2014-11-13</td>\n",
       "      <td>First Class</td>\n",
       "      <td>Aaron Bergman</td>\n",
       "      <td>Consumer</td>\n",
       "      <td>Oklahoma City</td>\n",
       "      <td>Oklahoma</td>\n",
       "      <td>United States</td>\n",
       "      <td>Central US</td>\n",
       "      <td>...</td>\n",
       "      <td>TEC-PH-5816</td>\n",
       "      <td>Technology</td>\n",
       "      <td>Phones</td>\n",
       "      <td>Samsung Convoy 3</td>\n",
       "      <td>221</td>\n",
       "      <td>2</td>\n",
       "      <td>0.0</td>\n",
       "      <td>62</td>\n",
       "      <td>40</td>\n",
       "      <td>High</td>\n",
       "    </tr>\n",
       "    <tr>\n",
       "      <th>1</th>\n",
       "      <td>IN-2014-JR162107-41675</td>\n",
       "      <td>2014-02-05</td>\n",
       "      <td>2014-02-07</td>\n",
       "      <td>Second Class</td>\n",
       "      <td>Justin Ritter</td>\n",
       "      <td>Corporate</td>\n",
       "      <td>Wollongong</td>\n",
       "      <td>New South Wales</td>\n",
       "      <td>Australia</td>\n",
       "      <td>Oceania</td>\n",
       "      <td>...</td>\n",
       "      <td>FUR-CH-5379</td>\n",
       "      <td>Furniture</td>\n",
       "      <td>Chairs</td>\n",
       "      <td>Novimex Executive Leather Armchair, Black</td>\n",
       "      <td>3709</td>\n",
       "      <td>9</td>\n",
       "      <td>0.1</td>\n",
       "      <td>288</td>\n",
       "      <td>923</td>\n",
       "      <td>Critical</td>\n",
       "    </tr>\n",
       "    <tr>\n",
       "      <th>2</th>\n",
       "      <td>IN-2014-CR127307-41929</td>\n",
       "      <td>2014-10-17</td>\n",
       "      <td>2014-10-18</td>\n",
       "      <td>First Class</td>\n",
       "      <td>Craig Reiter</td>\n",
       "      <td>Consumer</td>\n",
       "      <td>Brisbane</td>\n",
       "      <td>Queensland</td>\n",
       "      <td>Australia</td>\n",
       "      <td>Oceania</td>\n",
       "      <td>...</td>\n",
       "      <td>TEC-PH-5356</td>\n",
       "      <td>Technology</td>\n",
       "      <td>Phones</td>\n",
       "      <td>Nokia Smart Phone, with Caller ID</td>\n",
       "      <td>5175</td>\n",
       "      <td>9</td>\n",
       "      <td>0.1</td>\n",
       "      <td>919</td>\n",
       "      <td>915</td>\n",
       "      <td>Medium</td>\n",
       "    </tr>\n",
       "    <tr>\n",
       "      <th>3</th>\n",
       "      <td>ES-2014-KM1637548-41667</td>\n",
       "      <td>2014-01-28</td>\n",
       "      <td>2014-01-30</td>\n",
       "      <td>First Class</td>\n",
       "      <td>Katherine Murray</td>\n",
       "      <td>Home Office</td>\n",
       "      <td>Berlin</td>\n",
       "      <td>Berlin</td>\n",
       "      <td>Germany</td>\n",
       "      <td>Western Europe</td>\n",
       "      <td>...</td>\n",
       "      <td>TEC-PH-5267</td>\n",
       "      <td>Technology</td>\n",
       "      <td>Phones</td>\n",
       "      <td>Motorola Smart Phone, Cordless</td>\n",
       "      <td>2892</td>\n",
       "      <td>5</td>\n",
       "      <td>0.1</td>\n",
       "      <td>96</td>\n",
       "      <td>910</td>\n",
       "      <td>Medium</td>\n",
       "    </tr>\n",
       "    <tr>\n",
       "      <th>4</th>\n",
       "      <td>SG-2014-RH9495111-41948</td>\n",
       "      <td>2014-11-05</td>\n",
       "      <td>2014-11-06</td>\n",
       "      <td>Same Day</td>\n",
       "      <td>Rick Hansen</td>\n",
       "      <td>Consumer</td>\n",
       "      <td>Dakar</td>\n",
       "      <td>Dakar</td>\n",
       "      <td>Senegal</td>\n",
       "      <td>Western Africa</td>\n",
       "      <td>...</td>\n",
       "      <td>TEC-CO-6011</td>\n",
       "      <td>Technology</td>\n",
       "      <td>Copiers</td>\n",
       "      <td>Sharp Wireless Fax, High-Speed</td>\n",
       "      <td>2832</td>\n",
       "      <td>8</td>\n",
       "      <td>0.0</td>\n",
       "      <td>311</td>\n",
       "      <td>903</td>\n",
       "      <td>Critical</td>\n",
       "    </tr>\n",
       "  </tbody>\n",
       "</table>\n",
       "<p>5 rows × 21 columns</p>\n",
       "</div>"
      ],
      "text/plain": [
       "                   Order ID Order_Date  Ship_Date     Ship Mode  \\\n",
       "0  CA-2014-AB10015140-41954 2014-11-11 2014-11-13   First Class   \n",
       "1    IN-2014-JR162107-41675 2014-02-05 2014-02-07  Second Class   \n",
       "2    IN-2014-CR127307-41929 2014-10-17 2014-10-18   First Class   \n",
       "3   ES-2014-KM1637548-41667 2014-01-28 2014-01-30   First Class   \n",
       "4   SG-2014-RH9495111-41948 2014-11-05 2014-11-06      Same Day   \n",
       "\n",
       "      Customer Name      Segment           City            State  \\\n",
       "0     Aaron Bergman     Consumer  Oklahoma City         Oklahoma   \n",
       "1     Justin Ritter    Corporate     Wollongong  New South Wales   \n",
       "2      Craig Reiter     Consumer       Brisbane       Queensland   \n",
       "3  Katherine Murray  Home Office         Berlin           Berlin   \n",
       "4       Rick Hansen     Consumer          Dakar            Dakar   \n",
       "\n",
       "         Country          Region  ...   Product ID    Category Sub-Category  \\\n",
       "0  United States      Central US  ...  TEC-PH-5816  Technology       Phones   \n",
       "1      Australia         Oceania  ...  FUR-CH-5379   Furniture       Chairs   \n",
       "2      Australia         Oceania  ...  TEC-PH-5356  Technology       Phones   \n",
       "3        Germany  Western Europe  ...  TEC-PH-5267  Technology       Phones   \n",
       "4        Senegal  Western Africa  ...  TEC-CO-6011  Technology      Copiers   \n",
       "\n",
       "                                Product Name Sales  Quantity  Discount  \\\n",
       "0                           Samsung Convoy 3   221         2       0.0   \n",
       "1  Novimex Executive Leather Armchair, Black  3709         9       0.1   \n",
       "2          Nokia Smart Phone, with Caller ID  5175         9       0.1   \n",
       "3             Motorola Smart Phone, Cordless  2892         5       0.1   \n",
       "4             Sharp Wireless Fax, High-Speed  2832         8       0.0   \n",
       "\n",
       "   Profit  Shipping Cost  Order Priority  \n",
       "0      62             40            High  \n",
       "1     288            923        Critical  \n",
       "2     919            915          Medium  \n",
       "3      96            910          Medium  \n",
       "4     311            903        Critical  \n",
       "\n",
       "[5 rows x 21 columns]"
      ]
     },
     "execution_count": 42,
     "metadata": {},
     "output_type": "execute_result"
    }
   ],
   "source": [
    "df.head(5)\n"
   ]
  },
  {
   "cell_type": "code",
   "execution_count": 43,
   "id": "5f525104",
   "metadata": {},
   "outputs": [],
   "source": [
    "cond1 = (df['Shipping Cost'] > 500.00 )"
   ]
  },
  {
   "cell_type": "code",
   "execution_count": 44,
   "id": "816a87f0",
   "metadata": {},
   "outputs": [
    {
     "data": {
      "text/html": [
       "<div>\n",
       "<style scoped>\n",
       "    .dataframe tbody tr th:only-of-type {\n",
       "        vertical-align: middle;\n",
       "    }\n",
       "\n",
       "    .dataframe tbody tr th {\n",
       "        vertical-align: top;\n",
       "    }\n",
       "\n",
       "    .dataframe thead th {\n",
       "        text-align: right;\n",
       "    }\n",
       "</style>\n",
       "<table border=\"1\" class=\"dataframe\">\n",
       "  <thead>\n",
       "    <tr style=\"text-align: right;\">\n",
       "      <th></th>\n",
       "      <th>Order ID</th>\n",
       "      <th>Order_Date</th>\n",
       "      <th>Ship_Date</th>\n",
       "      <th>Ship Mode</th>\n",
       "      <th>Customer Name</th>\n",
       "      <th>Segment</th>\n",
       "      <th>City</th>\n",
       "      <th>State</th>\n",
       "      <th>Country</th>\n",
       "      <th>Region</th>\n",
       "      <th>...</th>\n",
       "      <th>Product ID</th>\n",
       "      <th>Category</th>\n",
       "      <th>Sub-Category</th>\n",
       "      <th>Product Name</th>\n",
       "      <th>Sales</th>\n",
       "      <th>Quantity</th>\n",
       "      <th>Discount</th>\n",
       "      <th>Profit</th>\n",
       "      <th>Shipping Cost</th>\n",
       "      <th>Order Priority</th>\n",
       "    </tr>\n",
       "  </thead>\n",
       "  <tbody>\n",
       "    <tr>\n",
       "      <th>1</th>\n",
       "      <td>IN-2014-JR162107-41675</td>\n",
       "      <td>2014-02-05</td>\n",
       "      <td>2014-02-07</td>\n",
       "      <td>Second Class</td>\n",
       "      <td>Justin Ritter</td>\n",
       "      <td>Corporate</td>\n",
       "      <td>Wollongong</td>\n",
       "      <td>New South Wales</td>\n",
       "      <td>Australia</td>\n",
       "      <td>Oceania</td>\n",
       "      <td>...</td>\n",
       "      <td>FUR-CH-5379</td>\n",
       "      <td>Furniture</td>\n",
       "      <td>Chairs</td>\n",
       "      <td>Novimex Executive Leather Armchair, Black</td>\n",
       "      <td>3709</td>\n",
       "      <td>9</td>\n",
       "      <td>0.1</td>\n",
       "      <td>288</td>\n",
       "      <td>923</td>\n",
       "      <td>Critical</td>\n",
       "    </tr>\n",
       "    <tr>\n",
       "      <th>2</th>\n",
       "      <td>IN-2014-CR127307-41929</td>\n",
       "      <td>2014-10-17</td>\n",
       "      <td>2014-10-18</td>\n",
       "      <td>First Class</td>\n",
       "      <td>Craig Reiter</td>\n",
       "      <td>Consumer</td>\n",
       "      <td>Brisbane</td>\n",
       "      <td>Queensland</td>\n",
       "      <td>Australia</td>\n",
       "      <td>Oceania</td>\n",
       "      <td>...</td>\n",
       "      <td>TEC-PH-5356</td>\n",
       "      <td>Technology</td>\n",
       "      <td>Phones</td>\n",
       "      <td>Nokia Smart Phone, with Caller ID</td>\n",
       "      <td>5175</td>\n",
       "      <td>9</td>\n",
       "      <td>0.1</td>\n",
       "      <td>919</td>\n",
       "      <td>915</td>\n",
       "      <td>Medium</td>\n",
       "    </tr>\n",
       "    <tr>\n",
       "      <th>3</th>\n",
       "      <td>ES-2014-KM1637548-41667</td>\n",
       "      <td>2014-01-28</td>\n",
       "      <td>2014-01-30</td>\n",
       "      <td>First Class</td>\n",
       "      <td>Katherine Murray</td>\n",
       "      <td>Home Office</td>\n",
       "      <td>Berlin</td>\n",
       "      <td>Berlin</td>\n",
       "      <td>Germany</td>\n",
       "      <td>Western Europe</td>\n",
       "      <td>...</td>\n",
       "      <td>TEC-PH-5267</td>\n",
       "      <td>Technology</td>\n",
       "      <td>Phones</td>\n",
       "      <td>Motorola Smart Phone, Cordless</td>\n",
       "      <td>2892</td>\n",
       "      <td>5</td>\n",
       "      <td>0.1</td>\n",
       "      <td>96</td>\n",
       "      <td>910</td>\n",
       "      <td>Medium</td>\n",
       "    </tr>\n",
       "    <tr>\n",
       "      <th>4</th>\n",
       "      <td>SG-2014-RH9495111-41948</td>\n",
       "      <td>2014-11-05</td>\n",
       "      <td>2014-11-06</td>\n",
       "      <td>Same Day</td>\n",
       "      <td>Rick Hansen</td>\n",
       "      <td>Consumer</td>\n",
       "      <td>Dakar</td>\n",
       "      <td>Dakar</td>\n",
       "      <td>Senegal</td>\n",
       "      <td>Western Africa</td>\n",
       "      <td>...</td>\n",
       "      <td>TEC-CO-6011</td>\n",
       "      <td>Technology</td>\n",
       "      <td>Copiers</td>\n",
       "      <td>Sharp Wireless Fax, High-Speed</td>\n",
       "      <td>2832</td>\n",
       "      <td>8</td>\n",
       "      <td>0.0</td>\n",
       "      <td>311</td>\n",
       "      <td>903</td>\n",
       "      <td>Critical</td>\n",
       "    </tr>\n",
       "    <tr>\n",
       "      <th>5</th>\n",
       "      <td>IN-2014-JM156557-41818</td>\n",
       "      <td>2014-06-28</td>\n",
       "      <td>2014-07-01</td>\n",
       "      <td>Second Class</td>\n",
       "      <td>Jim Mitchum</td>\n",
       "      <td>Corporate</td>\n",
       "      <td>Sydney</td>\n",
       "      <td>New South Wales</td>\n",
       "      <td>Australia</td>\n",
       "      <td>Oceania</td>\n",
       "      <td>...</td>\n",
       "      <td>TEC-PH-5842</td>\n",
       "      <td>Technology</td>\n",
       "      <td>Phones</td>\n",
       "      <td>Samsung Smart Phone, with Caller ID</td>\n",
       "      <td>2862</td>\n",
       "      <td>5</td>\n",
       "      <td>0.1</td>\n",
       "      <td>763</td>\n",
       "      <td>897</td>\n",
       "      <td>Critical</td>\n",
       "    </tr>\n",
       "  </tbody>\n",
       "</table>\n",
       "<p>5 rows × 21 columns</p>\n",
       "</div>"
      ],
      "text/plain": [
       "                  Order ID Order_Date  Ship_Date     Ship Mode  \\\n",
       "1   IN-2014-JR162107-41675 2014-02-05 2014-02-07  Second Class   \n",
       "2   IN-2014-CR127307-41929 2014-10-17 2014-10-18   First Class   \n",
       "3  ES-2014-KM1637548-41667 2014-01-28 2014-01-30   First Class   \n",
       "4  SG-2014-RH9495111-41948 2014-11-05 2014-11-06      Same Day   \n",
       "5   IN-2014-JM156557-41818 2014-06-28 2014-07-01  Second Class   \n",
       "\n",
       "      Customer Name      Segment        City            State    Country  \\\n",
       "1     Justin Ritter    Corporate  Wollongong  New South Wales  Australia   \n",
       "2      Craig Reiter     Consumer    Brisbane       Queensland  Australia   \n",
       "3  Katherine Murray  Home Office      Berlin           Berlin    Germany   \n",
       "4       Rick Hansen     Consumer       Dakar            Dakar    Senegal   \n",
       "5       Jim Mitchum    Corporate      Sydney  New South Wales  Australia   \n",
       "\n",
       "           Region  ...   Product ID    Category Sub-Category  \\\n",
       "1         Oceania  ...  FUR-CH-5379   Furniture       Chairs   \n",
       "2         Oceania  ...  TEC-PH-5356  Technology       Phones   \n",
       "3  Western Europe  ...  TEC-PH-5267  Technology       Phones   \n",
       "4  Western Africa  ...  TEC-CO-6011  Technology      Copiers   \n",
       "5         Oceania  ...  TEC-PH-5842  Technology       Phones   \n",
       "\n",
       "                                Product Name Sales  Quantity  Discount  \\\n",
       "1  Novimex Executive Leather Armchair, Black  3709         9       0.1   \n",
       "2          Nokia Smart Phone, with Caller ID  5175         9       0.1   \n",
       "3             Motorola Smart Phone, Cordless  2892         5       0.1   \n",
       "4             Sharp Wireless Fax, High-Speed  2832         8       0.0   \n",
       "5        Samsung Smart Phone, with Caller ID  2862         5       0.1   \n",
       "\n",
       "   Profit  Shipping Cost  Order Priority  \n",
       "1     288            923        Critical  \n",
       "2     919            915          Medium  \n",
       "3      96            910          Medium  \n",
       "4     311            903        Critical  \n",
       "5     763            897        Critical  \n",
       "\n",
       "[5 rows x 21 columns]"
      ]
     },
     "execution_count": 44,
     "metadata": {},
     "output_type": "execute_result"
    }
   ],
   "source": [
    "a1 = df[cond1]\n",
    "a1[:5]"
   ]
  },
  {
   "cell_type": "code",
   "execution_count": 45,
   "id": "8d0315db",
   "metadata": {},
   "outputs": [
    {
     "data": {
      "text/plain": [
       "(120, 21)"
      ]
     },
     "execution_count": 45,
     "metadata": {},
     "output_type": "execute_result"
    }
   ],
   "source": [
    "a1.shape"
   ]
  },
  {
   "cell_type": "code",
   "execution_count": 46,
   "id": "468368b4",
   "metadata": {},
   "outputs": [
    {
     "data": {
      "text/plain": [
       "120"
      ]
     },
     "execution_count": 46,
     "metadata": {},
     "output_type": "execute_result"
    }
   ],
   "source": [
    "len(a1['Order ID'])"
   ]
  },
  {
   "cell_type": "code",
   "execution_count": 47,
   "id": "d93e529a",
   "metadata": {},
   "outputs": [],
   "source": [
    "#2. Count the number of segments, countries, regions, markets, categories, and sub-categories present in the global_superstore_2016 data.\n"
   ]
  },
  {
   "cell_type": "code",
   "execution_count": 48,
   "id": "c05b4ea8",
   "metadata": {},
   "outputs": [
    {
     "data": {
      "text/plain": [
       "Consumer       26518\n",
       "Corporate      15429\n",
       "Home Office     9343\n",
       "Name: Segment, dtype: int64"
      ]
     },
     "execution_count": 48,
     "metadata": {},
     "output_type": "execute_result"
    }
   ],
   "source": [
    "df['Segment'].value_counts()"
   ]
  },
  {
   "cell_type": "code",
   "execution_count": 49,
   "id": "faacf140",
   "metadata": {},
   "outputs": [
    {
     "data": {
      "text/plain": [
       "United States    9994\n",
       "Australia        2837\n",
       "France           2827\n",
       "Mexico           2635\n",
       "Germany          2063\n",
       "                 ... \n",
       "Bhutan              1\n",
       "Malawi              1\n",
       "Kuwait              1\n",
       "Suriname            1\n",
       "The Gambia          1\n",
       "Name: Country, Length: 165, dtype: int64"
      ]
     },
     "execution_count": 49,
     "metadata": {},
     "output_type": "execute_result"
    }
   ],
   "source": [
    "df['Country'].value_counts()"
   ]
  },
  {
   "cell_type": "code",
   "execution_count": 50,
   "id": "7b45fa4d",
   "metadata": {},
   "outputs": [
    {
     "data": {
      "text/plain": [
       "Western Europe       5883\n",
       "Central America      5616\n",
       "Oceania              3487\n",
       "Western US           3203\n",
       "Southeastern Asia    3129\n",
       "South America        2988\n",
       "Eastern US           2848\n",
       "Southern Asia        2655\n",
       "Western Asia         2440\n",
       "Eastern Asia         2374\n",
       "Central US           2323\n",
       "Northern Europe      2204\n",
       "Southern Europe      2113\n",
       "Caribbean            1690\n",
       "Southern US          1620\n",
       "Eastern Europe       1529\n",
       "Western Africa       1460\n",
       "North Africa         1278\n",
       "Eastern Africa        728\n",
       "Central Africa        643\n",
       "Southern Africa       478\n",
       "Canada                384\n",
       "Central Asia          217\n",
       "Name: Region, dtype: int64"
      ]
     },
     "execution_count": 50,
     "metadata": {},
     "output_type": "execute_result"
    }
   ],
   "source": [
    "df['Region'].value_counts()"
   ]
  },
  {
   "cell_type": "code",
   "execution_count": 51,
   "id": "47a61028",
   "metadata": {},
   "outputs": [
    {
     "data": {
      "text/plain": [
       "Asia Pacific    14302\n",
       "Europe          11729\n",
       "USCA            10378\n",
       "LATAM           10294\n",
       "Africa           4587\n",
       "Name: Market, dtype: int64"
      ]
     },
     "execution_count": 51,
     "metadata": {},
     "output_type": "execute_result"
    }
   ],
   "source": [
    "df['Market'].value_counts()"
   ]
  },
  {
   "cell_type": "code",
   "execution_count": 52,
   "id": "9a4a8434",
   "metadata": {},
   "outputs": [
    {
     "data": {
      "text/plain": [
       "Office Supplies    31289\n",
       "Technology         10141\n",
       "Furniture           9860\n",
       "Name: Category, dtype: int64"
      ]
     },
     "execution_count": 52,
     "metadata": {},
     "output_type": "execute_result"
    }
   ],
   "source": [
    "df['Category'].value_counts()"
   ]
  },
  {
   "cell_type": "code",
   "execution_count": 53,
   "id": "853b7ef4",
   "metadata": {},
   "outputs": [
    {
     "data": {
      "text/plain": [
       "3"
      ]
     },
     "execution_count": 53,
     "metadata": {},
     "output_type": "execute_result"
    }
   ],
   "source": [
    "len(df['Category'].value_counts())"
   ]
  },
  {
   "cell_type": "code",
   "execution_count": 54,
   "id": "e17898ef",
   "metadata": {},
   "outputs": [
    {
     "data": {
      "text/plain": [
       "Binders        6146\n",
       "Storage        5049\n",
       "Art            4864\n",
       "Paper          3492\n",
       "Chairs         3434\n",
       "Phones         3357\n",
       "Furnishings    3154\n",
       "Accessories    3075\n",
       "Labels         2601\n",
       "Fasteners      2601\n",
       "Bookcases      2411\n",
       "Supplies       2407\n",
       "Envelopes      2387\n",
       "Copiers        2223\n",
       "Appliances     1742\n",
       "Machines       1486\n",
       "Tables          861\n",
       "Name: Sub-Category, dtype: int64"
      ]
     },
     "execution_count": 54,
     "metadata": {},
     "output_type": "execute_result"
    }
   ],
   "source": [
    "df['Sub-Category'].value_counts()"
   ]
  },
  {
   "cell_type": "code",
   "execution_count": 55,
   "id": "843bde73",
   "metadata": {},
   "outputs": [],
   "source": [
    "#3. Get the list of Order ID's where the Indian customer's have bought the things under the category 'Technology' after paying the Shipping Cost more than 500. \n"
   ]
  },
  {
   "cell_type": "code",
   "execution_count": 56,
   "id": "4706bc78",
   "metadata": {},
   "outputs": [],
   "source": [
    "cond2 = ( df['Category'] == 'Technology') & (df['Shipping Cost'] >= 500 ) & (df['Country'] == 'India')"
   ]
  },
  {
   "cell_type": "code",
   "execution_count": 57,
   "id": "8cd5a5f3",
   "metadata": {},
   "outputs": [
    {
     "data": {
      "text/html": [
       "<div>\n",
       "<style scoped>\n",
       "    .dataframe tbody tr th:only-of-type {\n",
       "        vertical-align: middle;\n",
       "    }\n",
       "\n",
       "    .dataframe tbody tr th {\n",
       "        vertical-align: top;\n",
       "    }\n",
       "\n",
       "    .dataframe thead th {\n",
       "        text-align: right;\n",
       "    }\n",
       "</style>\n",
       "<table border=\"1\" class=\"dataframe\">\n",
       "  <thead>\n",
       "    <tr style=\"text-align: right;\">\n",
       "      <th></th>\n",
       "      <th>Order ID</th>\n",
       "      <th>Order_Date</th>\n",
       "      <th>Ship_Date</th>\n",
       "      <th>Ship Mode</th>\n",
       "      <th>Customer Name</th>\n",
       "      <th>Segment</th>\n",
       "      <th>City</th>\n",
       "      <th>State</th>\n",
       "      <th>Country</th>\n",
       "      <th>Region</th>\n",
       "      <th>...</th>\n",
       "      <th>Product ID</th>\n",
       "      <th>Category</th>\n",
       "      <th>Sub-Category</th>\n",
       "      <th>Product Name</th>\n",
       "      <th>Sales</th>\n",
       "      <th>Quantity</th>\n",
       "      <th>Discount</th>\n",
       "      <th>Profit</th>\n",
       "      <th>Shipping Cost</th>\n",
       "      <th>Order Priority</th>\n",
       "    </tr>\n",
       "  </thead>\n",
       "  <tbody>\n",
       "    <tr>\n",
       "      <th>41</th>\n",
       "      <td>IN-2015-BF1100558-42319</td>\n",
       "      <td>2015-11-11</td>\n",
       "      <td>2015-11-15</td>\n",
       "      <td>Standard Class</td>\n",
       "      <td>Barry Franz</td>\n",
       "      <td>Home Office</td>\n",
       "      <td>Gorakhpur</td>\n",
       "      <td>Haryana</td>\n",
       "      <td>India</td>\n",
       "      <td>Southern Asia</td>\n",
       "      <td>...</td>\n",
       "      <td>TEC-PH-5269</td>\n",
       "      <td>Technology</td>\n",
       "      <td>Phones</td>\n",
       "      <td>Motorola Smart Phone, with Caller ID</td>\n",
       "      <td>4518</td>\n",
       "      <td>7</td>\n",
       "      <td>0.0</td>\n",
       "      <td>632</td>\n",
       "      <td>658</td>\n",
       "      <td>High</td>\n",
       "    </tr>\n",
       "    <tr>\n",
       "      <th>48</th>\n",
       "      <td>IN-2015-SW2027558-42125</td>\n",
       "      <td>2015-05-01</td>\n",
       "      <td>2015-05-01</td>\n",
       "      <td>Same Day</td>\n",
       "      <td>Scott Williamson</td>\n",
       "      <td>Consumer</td>\n",
       "      <td>Jamshedpur</td>\n",
       "      <td>Jharkhand</td>\n",
       "      <td>India</td>\n",
       "      <td>Southern Asia</td>\n",
       "      <td>...</td>\n",
       "      <td>TEC-MA-5007</td>\n",
       "      <td>Technology</td>\n",
       "      <td>Machines</td>\n",
       "      <td>Konica Inkjet, White</td>\n",
       "      <td>2174</td>\n",
       "      <td>7</td>\n",
       "      <td>0.0</td>\n",
       "      <td>500</td>\n",
       "      <td>637</td>\n",
       "      <td>Critical</td>\n",
       "    </tr>\n",
       "    <tr>\n",
       "      <th>55</th>\n",
       "      <td>IN-2013-SG2047058-41424</td>\n",
       "      <td>2013-05-30</td>\n",
       "      <td>2013-05-31</td>\n",
       "      <td>First Class</td>\n",
       "      <td>Sheri Gordon</td>\n",
       "      <td>Consumer</td>\n",
       "      <td>Bhopal</td>\n",
       "      <td>Madhya Pradesh</td>\n",
       "      <td>India</td>\n",
       "      <td>Southern Asia</td>\n",
       "      <td>...</td>\n",
       "      <td>TEC-CO-4590</td>\n",
       "      <td>Technology</td>\n",
       "      <td>Copiers</td>\n",
       "      <td>Hewlett Wireless Fax, Color</td>\n",
       "      <td>1526</td>\n",
       "      <td>4</td>\n",
       "      <td>0.0</td>\n",
       "      <td>732</td>\n",
       "      <td>625</td>\n",
       "      <td>Critical</td>\n",
       "    </tr>\n",
       "    <tr>\n",
       "      <th>90</th>\n",
       "      <td>IN-2013-GP1474058-41419</td>\n",
       "      <td>2013-05-25</td>\n",
       "      <td>2013-05-28</td>\n",
       "      <td>Second Class</td>\n",
       "      <td>Guy Phonely</td>\n",
       "      <td>Corporate</td>\n",
       "      <td>Delhi</td>\n",
       "      <td>Delhi</td>\n",
       "      <td>India</td>\n",
       "      <td>Southern Asia</td>\n",
       "      <td>...</td>\n",
       "      <td>TEC-PH-5356</td>\n",
       "      <td>Technology</td>\n",
       "      <td>Phones</td>\n",
       "      <td>Nokia Smart Phone, with Caller ID</td>\n",
       "      <td>1916</td>\n",
       "      <td>3</td>\n",
       "      <td>0.0</td>\n",
       "      <td>498</td>\n",
       "      <td>548</td>\n",
       "      <td>Critical</td>\n",
       "    </tr>\n",
       "  </tbody>\n",
       "</table>\n",
       "<p>4 rows × 21 columns</p>\n",
       "</div>"
      ],
      "text/plain": [
       "                   Order ID Order_Date  Ship_Date       Ship Mode  \\\n",
       "41  IN-2015-BF1100558-42319 2015-11-11 2015-11-15  Standard Class   \n",
       "48  IN-2015-SW2027558-42125 2015-05-01 2015-05-01        Same Day   \n",
       "55  IN-2013-SG2047058-41424 2013-05-30 2013-05-31     First Class   \n",
       "90  IN-2013-GP1474058-41419 2013-05-25 2013-05-28    Second Class   \n",
       "\n",
       "       Customer Name      Segment        City           State Country  \\\n",
       "41       Barry Franz  Home Office   Gorakhpur         Haryana   India   \n",
       "48  Scott Williamson     Consumer  Jamshedpur       Jharkhand   India   \n",
       "55      Sheri Gordon     Consumer      Bhopal  Madhya Pradesh   India   \n",
       "90       Guy Phonely    Corporate       Delhi           Delhi   India   \n",
       "\n",
       "           Region  ...   Product ID    Category Sub-Category  \\\n",
       "41  Southern Asia  ...  TEC-PH-5269  Technology       Phones   \n",
       "48  Southern Asia  ...  TEC-MA-5007  Technology     Machines   \n",
       "55  Southern Asia  ...  TEC-CO-4590  Technology      Copiers   \n",
       "90  Southern Asia  ...  TEC-PH-5356  Technology       Phones   \n",
       "\n",
       "                            Product Name Sales  Quantity  Discount  Profit  \\\n",
       "41  Motorola Smart Phone, with Caller ID  4518         7       0.0     632   \n",
       "48                  Konica Inkjet, White  2174         7       0.0     500   \n",
       "55           Hewlett Wireless Fax, Color  1526         4       0.0     732   \n",
       "90     Nokia Smart Phone, with Caller ID  1916         3       0.0     498   \n",
       "\n",
       "    Shipping Cost  Order Priority  \n",
       "41            658            High  \n",
       "48            637        Critical  \n",
       "55            625        Critical  \n",
       "90            548        Critical  \n",
       "\n",
       "[4 rows x 21 columns]"
      ]
     },
     "execution_count": 57,
     "metadata": {},
     "output_type": "execute_result"
    }
   ],
   "source": [
    "a2 = df[cond2]\n",
    "a2.head(5)"
   ]
  },
  {
   "cell_type": "code",
   "execution_count": 58,
   "id": "72b74077",
   "metadata": {},
   "outputs": [
    {
     "data": {
      "text/plain": [
       "['IN-2015-BF1100558-42319',\n",
       " 'IN-2015-SW2027558-42125',\n",
       " 'IN-2013-SG2047058-41424',\n",
       " 'IN-2013-GP1474058-41419']"
      ]
     },
     "execution_count": 58,
     "metadata": {},
     "output_type": "execute_result"
    }
   ],
   "source": [
    "a2['Order ID'].tolist()"
   ]
  },
  {
   "cell_type": "code",
   "execution_count": 59,
   "id": "9b877f29",
   "metadata": {},
   "outputs": [
    {
     "data": {
      "text/plain": [
       "(4, 21)"
      ]
     },
     "execution_count": 59,
     "metadata": {},
     "output_type": "execute_result"
    }
   ],
   "source": [
    "a2.shape"
   ]
  },
  {
   "cell_type": "code",
   "execution_count": 60,
   "id": "6e835087",
   "metadata": {},
   "outputs": [],
   "source": [
    "#4. Get the list of Order ID's where the Indian customer's have bought the things under the category 'Technology' the Sales greater than 500.\n"
   ]
  },
  {
   "cell_type": "code",
   "execution_count": 61,
   "id": "1df123de",
   "metadata": {},
   "outputs": [],
   "source": [
    "cond3 = ( df['Category'] == 'Technology') & (df['Sales'] >= 500 ) & (df['Country'] == 'India')\n"
   ]
  },
  {
   "cell_type": "code",
   "execution_count": 62,
   "id": "92341b39",
   "metadata": {},
   "outputs": [
    {
     "data": {
      "text/plain": [
       "(163, 21)"
      ]
     },
     "execution_count": 62,
     "metadata": {},
     "output_type": "execute_result"
    }
   ],
   "source": [
    "a3 = df[cond3]\n",
    "a3.shape"
   ]
  },
  {
   "cell_type": "code",
   "execution_count": 63,
   "id": "264b0354",
   "metadata": {},
   "outputs": [
    {
     "data": {
      "text/plain": [
       "['IN-2015-BF1100558-42319',\n",
       " 'IN-2015-SW2027558-42125',\n",
       " 'IN-2013-SG2047058-41424',\n",
       " 'IN-2013-GP1474058-41419',\n",
       " 'IN-2014-SV2081558-41968']"
      ]
     },
     "execution_count": 63,
     "metadata": {},
     "output_type": "execute_result"
    }
   ],
   "source": [
    "liste= a3['Order ID'].tolist()\n",
    "liste[:5]"
   ]
  },
  {
   "cell_type": "code",
   "execution_count": 64,
   "id": "3ab5cc13",
   "metadata": {},
   "outputs": [
    {
     "data": {
      "text/plain": [
       "163"
      ]
     },
     "execution_count": 64,
     "metadata": {},
     "output_type": "execute_result"
    }
   ],
   "source": [
    "len(a3)"
   ]
  },
  {
   "cell_type": "code",
   "execution_count": 65,
   "id": "14d15e93",
   "metadata": {},
   "outputs": [],
   "source": [
    "#5. How many people from the State 'Karnataka' have bought the things under the category 'Technology'?\n"
   ]
  },
  {
   "cell_type": "code",
   "execution_count": 66,
   "id": "0ae99419",
   "metadata": {},
   "outputs": [
    {
     "data": {
      "text/plain": [
       "21"
      ]
     },
     "execution_count": 66,
     "metadata": {},
     "output_type": "execute_result"
    }
   ],
   "source": [
    "cond4 = ( df['State'] == 'Karnataka') & (df['Category'] == 'Technology')\n",
    "a4 = df[cond4]\n",
    "len(a4)"
   ]
  },
  {
   "cell_type": "code",
   "execution_count": 67,
   "id": "eb83e839",
   "metadata": {},
   "outputs": [],
   "source": [
    "#6. Find the overall rank of \"India\" where the 'Profit' is maximum under the category 'Technology'.\n"
   ]
  },
  {
   "cell_type": "code",
   "execution_count": 68,
   "id": "e745a061",
   "metadata": {},
   "outputs": [
    {
     "name": "stdout",
     "output_type": "stream",
     "text": [
      "Max Profit: 8399\n",
      "Min Profit: 0\n"
     ]
    }
   ],
   "source": [
    "print('Max Profit:', max(df['Profit']))\n",
    "print('Min Profit:', min(df['Profit']))"
   ]
  },
  {
   "cell_type": "code",
   "execution_count": 69,
   "id": "9a4a3437",
   "metadata": {},
   "outputs": [],
   "source": [
    "cond5 = (df['Profit'] > 0) & (df[ 'Category'] == 'Technology')\n"
   ]
  },
  {
   "cell_type": "code",
   "execution_count": 72,
   "id": "88855bbc",
   "metadata": {},
   "outputs": [
    {
     "data": {
      "text/plain": [
       "(9915, 21)"
      ]
     },
     "execution_count": 72,
     "metadata": {},
     "output_type": "execute_result"
    }
   ],
   "source": [
    "a5 = df[cond5]\n",
    "a5.shape"
   ]
  },
  {
   "cell_type": "code",
   "execution_count": 73,
   "id": "279afd8e",
   "metadata": {},
   "outputs": [],
   "source": [
    "a6 = a5.sort_values(by=['Profit'], ascending=False)"
   ]
  },
  {
   "cell_type": "code",
   "execution_count": 74,
   "id": "7e0b40d8",
   "metadata": {},
   "outputs": [
    {
     "data": {
      "text/html": [
       "<div>\n",
       "<style scoped>\n",
       "    .dataframe tbody tr th:only-of-type {\n",
       "        vertical-align: middle;\n",
       "    }\n",
       "\n",
       "    .dataframe tbody tr th {\n",
       "        vertical-align: top;\n",
       "    }\n",
       "\n",
       "    .dataframe thead th {\n",
       "        text-align: right;\n",
       "    }\n",
       "</style>\n",
       "<table border=\"1\" class=\"dataframe\">\n",
       "  <thead>\n",
       "    <tr style=\"text-align: right;\">\n",
       "      <th></th>\n",
       "      <th>Order ID</th>\n",
       "      <th>Order_Date</th>\n",
       "      <th>Ship_Date</th>\n",
       "      <th>Ship Mode</th>\n",
       "      <th>Customer Name</th>\n",
       "      <th>Segment</th>\n",
       "      <th>City</th>\n",
       "      <th>State</th>\n",
       "      <th>Country</th>\n",
       "      <th>Region</th>\n",
       "      <th>...</th>\n",
       "      <th>Product ID</th>\n",
       "      <th>Category</th>\n",
       "      <th>Sub-Category</th>\n",
       "      <th>Product Name</th>\n",
       "      <th>Sales</th>\n",
       "      <th>Quantity</th>\n",
       "      <th>Discount</th>\n",
       "      <th>Profit</th>\n",
       "      <th>Shipping Cost</th>\n",
       "      <th>Order Priority</th>\n",
       "    </tr>\n",
       "  </thead>\n",
       "  <tbody>\n",
       "    <tr>\n",
       "      <th>49003</th>\n",
       "      <td>CA-2014-TC20980140-41915</td>\n",
       "      <td>2014-10-03</td>\n",
       "      <td>2014-10-10</td>\n",
       "      <td>Standard Class</td>\n",
       "      <td>Tamara Chand</td>\n",
       "      <td>Corporate</td>\n",
       "      <td>Lafayette</td>\n",
       "      <td>Indiana</td>\n",
       "      <td>United States</td>\n",
       "      <td>Central US</td>\n",
       "      <td>...</td>\n",
       "      <td>TEC-CO-3691</td>\n",
       "      <td>Technology</td>\n",
       "      <td>Copiers</td>\n",
       "      <td>Canon imageCLASS 2200 Advanced Copier</td>\n",
       "      <td>17499</td>\n",
       "      <td>5</td>\n",
       "      <td>0.0</td>\n",
       "      <td>8399</td>\n",
       "      <td>349</td>\n",
       "      <td>Medium</td>\n",
       "    </tr>\n",
       "    <tr>\n",
       "      <th>44248</th>\n",
       "      <td>CA-2015-RB19360140-42087</td>\n",
       "      <td>2015-03-24</td>\n",
       "      <td>2015-03-26</td>\n",
       "      <td>First Class</td>\n",
       "      <td>Raymond Buch</td>\n",
       "      <td>Consumer</td>\n",
       "      <td>Seattle</td>\n",
       "      <td>Washington</td>\n",
       "      <td>United States</td>\n",
       "      <td>Western US</td>\n",
       "      <td>...</td>\n",
       "      <td>TEC-CO-3691</td>\n",
       "      <td>Technology</td>\n",
       "      <td>Copiers</td>\n",
       "      <td>Canon imageCLASS 2200 Advanced Copier</td>\n",
       "      <td>13999</td>\n",
       "      <td>4</td>\n",
       "      <td>0.0</td>\n",
       "      <td>6719</td>\n",
       "      <td>20</td>\n",
       "      <td>Medium</td>\n",
       "    </tr>\n",
       "    <tr>\n",
       "      <th>11755</th>\n",
       "      <td>CA-2014-CS12505140-41969</td>\n",
       "      <td>2014-11-26</td>\n",
       "      <td>2014-12-03</td>\n",
       "      <td>Standard Class</td>\n",
       "      <td>Cindy Stewart</td>\n",
       "      <td>Consumer</td>\n",
       "      <td>Lancaster</td>\n",
       "      <td>Ohio</td>\n",
       "      <td>United States</td>\n",
       "      <td>Eastern US</td>\n",
       "      <td>...</td>\n",
       "      <td>TEC-MA-3854</td>\n",
       "      <td>Technology</td>\n",
       "      <td>Machines</td>\n",
       "      <td>Cubify CubeX 3D Printer Double Head Print</td>\n",
       "      <td>4499</td>\n",
       "      <td>5</td>\n",
       "      <td>0.7</td>\n",
       "      <td>6599</td>\n",
       "      <td>451</td>\n",
       "      <td>Low</td>\n",
       "    </tr>\n",
       "    <tr>\n",
       "      <th>25238</th>\n",
       "      <td>CA-2015-HL15040140-42326</td>\n",
       "      <td>2015-11-18</td>\n",
       "      <td>2015-11-23</td>\n",
       "      <td>Standard Class</td>\n",
       "      <td>Hunter Lopez</td>\n",
       "      <td>Consumer</td>\n",
       "      <td>Newark</td>\n",
       "      <td>Delaware</td>\n",
       "      <td>United States</td>\n",
       "      <td>Eastern US</td>\n",
       "      <td>...</td>\n",
       "      <td>TEC-CO-3691</td>\n",
       "      <td>Technology</td>\n",
       "      <td>Copiers</td>\n",
       "      <td>Canon imageCLASS 2200 Advanced Copier</td>\n",
       "      <td>10499</td>\n",
       "      <td>3</td>\n",
       "      <td>0.0</td>\n",
       "      <td>5039</td>\n",
       "      <td>363</td>\n",
       "      <td>Medium</td>\n",
       "    </tr>\n",
       "    <tr>\n",
       "      <th>6591</th>\n",
       "      <td>TU-2014-DM3345134-41908</td>\n",
       "      <td>2014-09-26</td>\n",
       "      <td>2014-09-26</td>\n",
       "      <td>Same Day</td>\n",
       "      <td>Denise Monton</td>\n",
       "      <td>Corporate</td>\n",
       "      <td>Bornova</td>\n",
       "      <td>Izmir</td>\n",
       "      <td>Turkey</td>\n",
       "      <td>Western Asia</td>\n",
       "      <td>...</td>\n",
       "      <td>TEC-PH-5267</td>\n",
       "      <td>Technology</td>\n",
       "      <td>Phones</td>\n",
       "      <td>Motorola Smart Phone, Cordless</td>\n",
       "      <td>3085</td>\n",
       "      <td>12</td>\n",
       "      <td>0.6</td>\n",
       "      <td>4088</td>\n",
       "      <td>51</td>\n",
       "      <td>Critical</td>\n",
       "    </tr>\n",
       "  </tbody>\n",
       "</table>\n",
       "<p>5 rows × 21 columns</p>\n",
       "</div>"
      ],
      "text/plain": [
       "                       Order ID Order_Date  Ship_Date       Ship Mode  \\\n",
       "49003  CA-2014-TC20980140-41915 2014-10-03 2014-10-10  Standard Class   \n",
       "44248  CA-2015-RB19360140-42087 2015-03-24 2015-03-26     First Class   \n",
       "11755  CA-2014-CS12505140-41969 2014-11-26 2014-12-03  Standard Class   \n",
       "25238  CA-2015-HL15040140-42326 2015-11-18 2015-11-23  Standard Class   \n",
       "6591    TU-2014-DM3345134-41908 2014-09-26 2014-09-26        Same Day   \n",
       "\n",
       "       Customer Name    Segment       City       State        Country  \\\n",
       "49003   Tamara Chand  Corporate  Lafayette     Indiana  United States   \n",
       "44248   Raymond Buch   Consumer    Seattle  Washington  United States   \n",
       "11755  Cindy Stewart   Consumer  Lancaster        Ohio  United States   \n",
       "25238   Hunter Lopez   Consumer     Newark    Delaware  United States   \n",
       "6591   Denise Monton  Corporate    Bornova       Izmir         Turkey   \n",
       "\n",
       "             Region  ...   Product ID    Category Sub-Category  \\\n",
       "49003    Central US  ...  TEC-CO-3691  Technology      Copiers   \n",
       "44248    Western US  ...  TEC-CO-3691  Technology      Copiers   \n",
       "11755    Eastern US  ...  TEC-MA-3854  Technology     Machines   \n",
       "25238    Eastern US  ...  TEC-CO-3691  Technology      Copiers   \n",
       "6591   Western Asia  ...  TEC-PH-5267  Technology       Phones   \n",
       "\n",
       "                                    Product Name  Sales  Quantity  Discount  \\\n",
       "49003      Canon imageCLASS 2200 Advanced Copier  17499         5       0.0   \n",
       "44248      Canon imageCLASS 2200 Advanced Copier  13999         4       0.0   \n",
       "11755  Cubify CubeX 3D Printer Double Head Print   4499         5       0.7   \n",
       "25238      Canon imageCLASS 2200 Advanced Copier  10499         3       0.0   \n",
       "6591              Motorola Smart Phone, Cordless   3085        12       0.6   \n",
       "\n",
       "       Profit  Shipping Cost  Order Priority  \n",
       "49003    8399            349          Medium  \n",
       "44248    6719             20          Medium  \n",
       "11755    6599            451             Low  \n",
       "25238    5039            363          Medium  \n",
       "6591     4088             51        Critical  \n",
       "\n",
       "[5 rows x 21 columns]"
      ]
     },
     "execution_count": 74,
     "metadata": {},
     "output_type": "execute_result"
    }
   ],
   "source": [
    "a6.head(5)"
   ]
  },
  {
   "cell_type": "code",
   "execution_count": 75,
   "id": "76173216",
   "metadata": {},
   "outputs": [
    {
     "data": {
      "text/plain": [
       "49003    United States\n",
       "44248    United States\n",
       "11755    United States\n",
       "25238    United States\n",
       "6591            Turkey\n",
       "             ...      \n",
       "45055    United States\n",
       "46466        Venezuela\n",
       "31893    United States\n",
       "30799           Russia\n",
       "41207             Iraq\n",
       "Name: Country, Length: 9915, dtype: object"
      ]
     },
     "execution_count": 75,
     "metadata": {},
     "output_type": "execute_result"
    }
   ],
   "source": [
    "a6['Country']"
   ]
  },
  {
   "cell_type": "code",
   "execution_count": 79,
   "id": "a350cf9c",
   "metadata": {},
   "outputs": [
    {
     "data": {
      "text/plain": [
       "['United States', 'Turkey', 'Pakistan', 'Japan', 'India']"
      ]
     },
     "execution_count": 79,
     "metadata": {},
     "output_type": "execute_result"
    }
   ],
   "source": [
    "countries_top_profit = a6['Country'].drop_duplicates().tolist()\n",
    "countries_top_profit[:5]"
   ]
  },
  {
   "cell_type": "code",
   "execution_count": 80,
   "id": "2426abd7",
   "metadata": {},
   "outputs": [],
   "source": [
    "ranked_data = a6['Country'].drop_duplicates().rank(ascending=False, method= 'average')\n"
   ]
  },
  {
   "cell_type": "code",
   "execution_count": 81,
   "id": "c6bb70a2",
   "metadata": {},
   "outputs": [
    {
     "data": {
      "text/plain": [
       "pandas.core.series.Series"
      ]
     },
     "execution_count": 81,
     "metadata": {},
     "output_type": "execute_result"
    }
   ],
   "source": [
    "type(ranked_data)"
   ]
  },
  {
   "cell_type": "code",
   "execution_count": 82,
   "id": "439ced8b",
   "metadata": {},
   "outputs": [],
   "source": [
    "ranked_countries = a6['Country'].drop_duplicates()"
   ]
  },
  {
   "cell_type": "code",
   "execution_count": 83,
   "id": "d9263081",
   "metadata": {},
   "outputs": [
    {
     "data": {
      "text/html": [
       "<div>\n",
       "<style scoped>\n",
       "    .dataframe tbody tr th:only-of-type {\n",
       "        vertical-align: middle;\n",
       "    }\n",
       "\n",
       "    .dataframe tbody tr th {\n",
       "        vertical-align: top;\n",
       "    }\n",
       "\n",
       "    .dataframe thead th {\n",
       "        text-align: right;\n",
       "    }\n",
       "</style>\n",
       "<table border=\"1\" class=\"dataframe\">\n",
       "  <thead>\n",
       "    <tr style=\"text-align: right;\">\n",
       "      <th></th>\n",
       "      <th>Country</th>\n",
       "      <th>Country</th>\n",
       "    </tr>\n",
       "  </thead>\n",
       "  <tbody>\n",
       "    <tr>\n",
       "      <th>49003</th>\n",
       "      <td>United States</td>\n",
       "      <td>8.0</td>\n",
       "    </tr>\n",
       "    <tr>\n",
       "      <th>6591</th>\n",
       "      <td>Turkey</td>\n",
       "      <td>14.0</td>\n",
       "    </tr>\n",
       "    <tr>\n",
       "      <th>362</th>\n",
       "      <td>Pakistan</td>\n",
       "      <td>49.0</td>\n",
       "    </tr>\n",
       "    <tr>\n",
       "      <th>215</th>\n",
       "      <td>Japan</td>\n",
       "      <td>79.0</td>\n",
       "    </tr>\n",
       "    <tr>\n",
       "      <th>313</th>\n",
       "      <td>India</td>\n",
       "      <td>87.0</td>\n",
       "    </tr>\n",
       "    <tr>\n",
       "      <th>...</th>\n",
       "      <td>...</td>\n",
       "      <td>...</td>\n",
       "    </tr>\n",
       "    <tr>\n",
       "      <th>19592</th>\n",
       "      <td>Togo</td>\n",
       "      <td>17.0</td>\n",
       "    </tr>\n",
       "    <tr>\n",
       "      <th>29037</th>\n",
       "      <td>Swaziland</td>\n",
       "      <td>25.0</td>\n",
       "    </tr>\n",
       "    <tr>\n",
       "      <th>29689</th>\n",
       "      <td>Luxembourg</td>\n",
       "      <td>69.0</td>\n",
       "    </tr>\n",
       "    <tr>\n",
       "      <th>33381</th>\n",
       "      <td>Sri Lanka</td>\n",
       "      <td>27.0</td>\n",
       "    </tr>\n",
       "    <tr>\n",
       "      <th>5060</th>\n",
       "      <td>Bahrain</td>\n",
       "      <td>137.0</td>\n",
       "    </tr>\n",
       "  </tbody>\n",
       "</table>\n",
       "<p>145 rows × 2 columns</p>\n",
       "</div>"
      ],
      "text/plain": [
       "             Country  Country\n",
       "49003  United States      8.0\n",
       "6591          Turkey     14.0\n",
       "362         Pakistan     49.0\n",
       "215            Japan     79.0\n",
       "313            India     87.0\n",
       "...              ...      ...\n",
       "19592           Togo     17.0\n",
       "29037      Swaziland     25.0\n",
       "29689     Luxembourg     69.0\n",
       "33381      Sri Lanka     27.0\n",
       "5060         Bahrain    137.0\n",
       "\n",
       "[145 rows x 2 columns]"
      ]
     },
     "execution_count": 83,
     "metadata": {},
     "output_type": "execute_result"
    }
   ],
   "source": [
    "ranked_series = pd.concat([ranked_countries,ranked_data], axis = 1)\n",
    "ranked_series"
   ]
  },
  {
   "cell_type": "code",
   "execution_count": 84,
   "id": "f328467c",
   "metadata": {},
   "outputs": [],
   "source": [
    "#7. Display data with min, max, average and std of 'Profit'& 'Sales' for each Sub-Category under each Category\n"
   ]
  },
  {
   "cell_type": "code",
   "execution_count": 85,
   "id": "64659717",
   "metadata": {},
   "outputs": [
    {
     "data": {
      "text/plain": [
       "<pandas.core.groupby.generic.DataFrameGroupBy object at 0x7fae8059a0a0>"
      ]
     },
     "execution_count": 85,
     "metadata": {},
     "output_type": "execute_result"
    }
   ],
   "source": [
    "grouped_data = df.groupby(by=['Country', 'Category', 'Sub-Category'], as_index=True)\n",
    "grouped_data"
   ]
  },
  {
   "cell_type": "code",
   "execution_count": 86,
   "id": "f5c33a87",
   "metadata": {},
   "outputs": [],
   "source": [
    "#grouped_data[['Sales', 'Profit']].min()"
   ]
  },
  {
   "cell_type": "code",
   "execution_count": 87,
   "id": "d1c4595a",
   "metadata": {},
   "outputs": [],
   "source": [
    "functions = [('min_value', 'min'), ('max_value', 'max'), ('mean_value', 'mean'), ('std_value', 'std')\n",
    "        ]"
   ]
  },
  {
   "cell_type": "code",
   "execution_count": 88,
   "id": "4997a254",
   "metadata": {},
   "outputs": [
    {
     "name": "stderr",
     "output_type": "stream",
     "text": [
      "/var/folders/cp/zzchzjw14jb8x0ffxgyywy3m0000gp/T/ipykernel_1581/1835645435.py:1: FutureWarning: Indexing with multiple keys (implicitly converted to a tuple of keys) will be deprecated, use a list instead.\n",
      "  grouped_data['Sales', 'Profit'].agg(functions)\n"
     ]
    },
    {
     "data": {
      "text/html": [
       "<div>\n",
       "<style scoped>\n",
       "    .dataframe tbody tr th:only-of-type {\n",
       "        vertical-align: middle;\n",
       "    }\n",
       "\n",
       "    .dataframe tbody tr th {\n",
       "        vertical-align: top;\n",
       "    }\n",
       "\n",
       "    .dataframe thead tr th {\n",
       "        text-align: left;\n",
       "    }\n",
       "\n",
       "    .dataframe thead tr:last-of-type th {\n",
       "        text-align: right;\n",
       "    }\n",
       "</style>\n",
       "<table border=\"1\" class=\"dataframe\">\n",
       "  <thead>\n",
       "    <tr>\n",
       "      <th></th>\n",
       "      <th></th>\n",
       "      <th></th>\n",
       "      <th colspan=\"4\" halign=\"left\">Sales</th>\n",
       "      <th colspan=\"4\" halign=\"left\">Profit</th>\n",
       "    </tr>\n",
       "    <tr>\n",
       "      <th></th>\n",
       "      <th></th>\n",
       "      <th></th>\n",
       "      <th>min_value</th>\n",
       "      <th>max_value</th>\n",
       "      <th>mean_value</th>\n",
       "      <th>std_value</th>\n",
       "      <th>min_value</th>\n",
       "      <th>max_value</th>\n",
       "      <th>mean_value</th>\n",
       "      <th>std_value</th>\n",
       "    </tr>\n",
       "    <tr>\n",
       "      <th>Country</th>\n",
       "      <th>Category</th>\n",
       "      <th>Sub-Category</th>\n",
       "      <th></th>\n",
       "      <th></th>\n",
       "      <th></th>\n",
       "      <th></th>\n",
       "      <th></th>\n",
       "      <th></th>\n",
       "      <th></th>\n",
       "      <th></th>\n",
       "    </tr>\n",
       "  </thead>\n",
       "  <tbody>\n",
       "    <tr>\n",
       "      <th rowspan=\"5\" valign=\"top\">Afghanistan</th>\n",
       "      <th rowspan=\"4\" valign=\"top\">Furniture</th>\n",
       "      <th>Bookcases</th>\n",
       "      <td>731</td>\n",
       "      <td>2070</td>\n",
       "      <td>1400.500000</td>\n",
       "      <td>946.815980</td>\n",
       "      <td>102</td>\n",
       "      <td>848</td>\n",
       "      <td>475.000000</td>\n",
       "      <td>527.501659</td>\n",
       "    </tr>\n",
       "    <tr>\n",
       "      <th>Chairs</th>\n",
       "      <td>417</td>\n",
       "      <td>914</td>\n",
       "      <td>665.500000</td>\n",
       "      <td>351.432070</td>\n",
       "      <td>45</td>\n",
       "      <td>356</td>\n",
       "      <td>200.500000</td>\n",
       "      <td>219.910209</td>\n",
       "    </tr>\n",
       "    <tr>\n",
       "      <th>Furnishings</th>\n",
       "      <td>84</td>\n",
       "      <td>219</td>\n",
       "      <td>134.500000</td>\n",
       "      <td>51.251341</td>\n",
       "      <td>1</td>\n",
       "      <td>79</td>\n",
       "      <td>32.333333</td>\n",
       "      <td>32.240761</td>\n",
       "    </tr>\n",
       "    <tr>\n",
       "      <th>Tables</th>\n",
       "      <td>267</td>\n",
       "      <td>4626</td>\n",
       "      <td>2113.333333</td>\n",
       "      <td>2254.599817</td>\n",
       "      <td>34</td>\n",
       "      <td>647</td>\n",
       "      <td>415.000000</td>\n",
       "      <td>332.555259</td>\n",
       "    </tr>\n",
       "    <tr>\n",
       "      <th>Office Supplies</th>\n",
       "      <th>Appliances</th>\n",
       "      <td>669</td>\n",
       "      <td>669</td>\n",
       "      <td>669.000000</td>\n",
       "      <td>NaN</td>\n",
       "      <td>280</td>\n",
       "      <td>280</td>\n",
       "      <td>280.000000</td>\n",
       "      <td>NaN</td>\n",
       "    </tr>\n",
       "    <tr>\n",
       "      <th>...</th>\n",
       "      <th>...</th>\n",
       "      <th>...</th>\n",
       "      <td>...</td>\n",
       "      <td>...</td>\n",
       "      <td>...</td>\n",
       "      <td>...</td>\n",
       "      <td>...</td>\n",
       "      <td>...</td>\n",
       "      <td>...</td>\n",
       "      <td>...</td>\n",
       "    </tr>\n",
       "    <tr>\n",
       "      <th rowspan=\"5\" valign=\"top\">Zimbabwe</th>\n",
       "      <th>Office Supplies</th>\n",
       "      <th>Supplies</th>\n",
       "      <td>10</td>\n",
       "      <td>66</td>\n",
       "      <td>37.833333</td>\n",
       "      <td>25.031314</td>\n",
       "      <td>12</td>\n",
       "      <td>55</td>\n",
       "      <td>37.166667</td>\n",
       "      <td>15.917496</td>\n",
       "    </tr>\n",
       "    <tr>\n",
       "      <th rowspan=\"4\" valign=\"top\">Technology</th>\n",
       "      <th>Accessories</th>\n",
       "      <td>77</td>\n",
       "      <td>77</td>\n",
       "      <td>77.000000</td>\n",
       "      <td>NaN</td>\n",
       "      <td>59</td>\n",
       "      <td>59</td>\n",
       "      <td>59.000000</td>\n",
       "      <td>NaN</td>\n",
       "    </tr>\n",
       "    <tr>\n",
       "      <th>Copiers</th>\n",
       "      <td>154</td>\n",
       "      <td>444</td>\n",
       "      <td>299.000000</td>\n",
       "      <td>205.060967</td>\n",
       "      <td>257</td>\n",
       "      <td>371</td>\n",
       "      <td>314.000000</td>\n",
       "      <td>80.610173</td>\n",
       "    </tr>\n",
       "    <tr>\n",
       "      <th>Machines</th>\n",
       "      <td>14</td>\n",
       "      <td>104</td>\n",
       "      <td>52.500000</td>\n",
       "      <td>42.696604</td>\n",
       "      <td>20</td>\n",
       "      <td>173</td>\n",
       "      <td>76.500000</td>\n",
       "      <td>72.958893</td>\n",
       "    </tr>\n",
       "    <tr>\n",
       "      <th>Phones</th>\n",
       "      <td>21</td>\n",
       "      <td>101</td>\n",
       "      <td>61.000000</td>\n",
       "      <td>56.568542</td>\n",
       "      <td>47</td>\n",
       "      <td>169</td>\n",
       "      <td>108.000000</td>\n",
       "      <td>86.267027</td>\n",
       "    </tr>\n",
       "  </tbody>\n",
       "</table>\n",
       "<p>2009 rows × 8 columns</p>\n",
       "</div>"
      ],
      "text/plain": [
       "                                             Sales                         \\\n",
       "                                         min_value max_value   mean_value   \n",
       "Country     Category        Sub-Category                                    \n",
       "Afghanistan Furniture       Bookcases          731      2070  1400.500000   \n",
       "                            Chairs             417       914   665.500000   \n",
       "                            Furnishings         84       219   134.500000   \n",
       "                            Tables             267      4626  2113.333333   \n",
       "            Office Supplies Appliances         669       669   669.000000   \n",
       "...                                            ...       ...          ...   \n",
       "Zimbabwe    Office Supplies Supplies            10        66    37.833333   \n",
       "            Technology      Accessories         77        77    77.000000   \n",
       "                            Copiers            154       444   299.000000   \n",
       "                            Machines            14       104    52.500000   \n",
       "                            Phones              21       101    61.000000   \n",
       "\n",
       "                                                         Profit            \\\n",
       "                                            std_value min_value max_value   \n",
       "Country     Category        Sub-Category                                    \n",
       "Afghanistan Furniture       Bookcases      946.815980       102       848   \n",
       "                            Chairs         351.432070        45       356   \n",
       "                            Furnishings     51.251341         1        79   \n",
       "                            Tables        2254.599817        34       647   \n",
       "            Office Supplies Appliances            NaN       280       280   \n",
       "...                                               ...       ...       ...   \n",
       "Zimbabwe    Office Supplies Supplies        25.031314        12        55   \n",
       "            Technology      Accessories           NaN        59        59   \n",
       "                            Copiers        205.060967       257       371   \n",
       "                            Machines        42.696604        20       173   \n",
       "                            Phones          56.568542        47       169   \n",
       "\n",
       "                                                                  \n",
       "                                          mean_value   std_value  \n",
       "Country     Category        Sub-Category                          \n",
       "Afghanistan Furniture       Bookcases     475.000000  527.501659  \n",
       "                            Chairs        200.500000  219.910209  \n",
       "                            Furnishings    32.333333   32.240761  \n",
       "                            Tables        415.000000  332.555259  \n",
       "            Office Supplies Appliances    280.000000         NaN  \n",
       "...                                              ...         ...  \n",
       "Zimbabwe    Office Supplies Supplies       37.166667   15.917496  \n",
       "            Technology      Accessories    59.000000         NaN  \n",
       "                            Copiers       314.000000   80.610173  \n",
       "                            Machines       76.500000   72.958893  \n",
       "                            Phones        108.000000   86.267027  \n",
       "\n",
       "[2009 rows x 8 columns]"
      ]
     },
     "execution_count": 88,
     "metadata": {},
     "output_type": "execute_result"
    }
   ],
   "source": [
    "grouped_data['Sales', 'Profit'].agg(functions)"
   ]
  },
  {
   "cell_type": "code",
   "execution_count": null,
   "id": "f9840c8e",
   "metadata": {},
   "outputs": [],
   "source": []
  },
  {
   "cell_type": "code",
   "execution_count": null,
   "id": "1e808274",
   "metadata": {},
   "outputs": [],
   "source": []
  },
  {
   "cell_type": "code",
   "execution_count": null,
   "id": "f74fbdd3",
   "metadata": {},
   "outputs": [],
   "source": []
  },
  {
   "cell_type": "code",
   "execution_count": null,
   "id": "9176b763",
   "metadata": {},
   "outputs": [],
   "source": []
  },
  {
   "cell_type": "code",
   "execution_count": null,
   "id": "ca7b7be0",
   "metadata": {},
   "outputs": [],
   "source": []
  },
  {
   "cell_type": "code",
   "execution_count": null,
   "id": "acb2c64d",
   "metadata": {},
   "outputs": [],
   "source": []
  },
  {
   "cell_type": "code",
   "execution_count": null,
   "id": "6307079a",
   "metadata": {},
   "outputs": [],
   "source": []
  },
  {
   "cell_type": "code",
   "execution_count": null,
   "id": "b03cea64",
   "metadata": {},
   "outputs": [],
   "source": []
  }
 ],
 "metadata": {
  "kernelspec": {
   "display_name": "Python 3 (ipykernel)",
   "language": "python",
   "name": "python3"
  },
  "language_info": {
   "codemirror_mode": {
    "name": "ipython",
    "version": 3
   },
   "file_extension": ".py",
   "mimetype": "text/x-python",
   "name": "python",
   "nbconvert_exporter": "python",
   "pygments_lexer": "ipython3",
   "version": "3.9.13"
  }
 },
 "nbformat": 4,
 "nbformat_minor": 5
}
